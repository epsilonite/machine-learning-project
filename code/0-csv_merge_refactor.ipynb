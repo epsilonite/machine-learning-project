{
 "cells": [
  {
   "cell_type": "code",
   "execution_count": 1,
   "id": "fbdf89ed-9026-41ec-859a-491538de50b4",
   "metadata": {},
   "outputs": [],
   "source": [
    "import pandas as pd"
   ]
  },
  {
   "cell_type": "code",
   "execution_count": 27,
   "id": "b062837e-6f64-46ec-ad60-5726c5a8624a",
   "metadata": {},
   "outputs": [],
   "source": [
    "df_train = pd.read_csv('data/df_train.csv')\n",
    "df_test = pd.read_csv('data/df_test.csv')"
   ]
  },
  {
   "cell_type": "code",
   "execution_count": 31,
   "id": "28be7191-6169-4a94-abeb-506d713de932",
   "metadata": {},
   "outputs": [
    {
     "data": {
      "text/html": [
       "<div>\n",
       "<style scoped>\n",
       "    .dataframe tbody tr th:only-of-type {\n",
       "        vertical-align: middle;\n",
       "    }\n",
       "\n",
       "    .dataframe tbody tr th {\n",
       "        vertical-align: top;\n",
       "    }\n",
       "\n",
       "    .dataframe thead th {\n",
       "        text-align: right;\n",
       "    }\n",
       "</style>\n",
       "<table border=\"1\" class=\"dataframe\">\n",
       "  <thead>\n",
       "    <tr style=\"text-align: right;\">\n",
       "      <th></th>\n",
       "      <th>identifier</th>\n",
       "      <th>mass shape</th>\n",
       "      <th>mass margins</th>\n",
       "      <th>breast_density</th>\n",
       "      <th>assessment</th>\n",
       "      <th>subtlety</th>\n",
       "      <th>pathology</th>\n",
       "    </tr>\n",
       "  </thead>\n",
       "  <tbody>\n",
       "    <tr>\n",
       "      <th>1695</th>\n",
       "      <td>P_02092_LEFT_MLO_1</td>\n",
       "      <td>IRREGULAR</td>\n",
       "      <td>SPICULATED</td>\n",
       "      <td>2</td>\n",
       "      <td>3</td>\n",
       "      <td>2</td>\n",
       "      <td>2</td>\n",
       "    </tr>\n",
       "  </tbody>\n",
       "</table>\n",
       "</div>"
      ],
      "text/plain": [
       "              identifier mass shape mass margins  breast_density  assessment  \\\n",
       "1695  P_02092_LEFT_MLO_1  IRREGULAR   SPICULATED               2           3   \n",
       "\n",
       "      subtlety  pathology  \n",
       "1695         2          2  "
      ]
     },
     "execution_count": 31,
     "metadata": {},
     "output_type": "execute_result"
    }
   ],
   "source": [
    "df = pd.concat([df_train, df_test], axis=0, ignore_index=True).sort_values(by='identifier').reset_index()\n",
    "df.drop('index', axis=1, inplace=True)\n",
    "df.tail(1)"
   ]
  },
  {
   "cell_type": "code",
   "execution_count": 32,
   "id": "cea5fd0e-265b-4997-b002-ed66bf626a86",
   "metadata": {},
   "outputs": [
    {
     "data": {
      "text/html": [
       "<div>\n",
       "<style scoped>\n",
       "    .dataframe tbody tr th:only-of-type {\n",
       "        vertical-align: middle;\n",
       "    }\n",
       "\n",
       "    .dataframe tbody tr th {\n",
       "        vertical-align: top;\n",
       "    }\n",
       "\n",
       "    .dataframe thead th {\n",
       "        text-align: right;\n",
       "    }\n",
       "</style>\n",
       "<table border=\"1\" class=\"dataframe\">\n",
       "  <thead>\n",
       "    <tr style=\"text-align: right;\">\n",
       "      <th></th>\n",
       "      <th>id</th>\n",
       "      <th>shape</th>\n",
       "      <th>margins</th>\n",
       "      <th>breast-density</th>\n",
       "      <th>assessment</th>\n",
       "      <th>subtlety</th>\n",
       "      <th>label</th>\n",
       "    </tr>\n",
       "  </thead>\n",
       "  <tbody>\n",
       "    <tr>\n",
       "      <th>1695</th>\n",
       "      <td>P_02092_LEFT_MLO_1</td>\n",
       "      <td>IRREGULAR</td>\n",
       "      <td>SPICULATED</td>\n",
       "      <td>2</td>\n",
       "      <td>3</td>\n",
       "      <td>2</td>\n",
       "      <td>2</td>\n",
       "    </tr>\n",
       "  </tbody>\n",
       "</table>\n",
       "</div>"
      ],
      "text/plain": [
       "                      id      shape     margins  breast-density  assessment  \\\n",
       "1695  P_02092_LEFT_MLO_1  IRREGULAR  SPICULATED               2           3   \n",
       "\n",
       "      subtlety  label  \n",
       "1695         2      2  "
      ]
     },
     "execution_count": 32,
     "metadata": {},
     "output_type": "execute_result"
    }
   ],
   "source": [
    "df.columns=['id','shape','margins','breast-density','assessment','subtlety','label']\n",
    "df.tail(1)"
   ]
  },
  {
   "cell_type": "code",
   "execution_count": 33,
   "id": "ec33ab2b-a094-427f-8608-d2c4d8382875",
   "metadata": {},
   "outputs": [],
   "source": [
    "df[['id','label']].to_csv('data/cbis-ddsm/mass-labels.csv',index=False)"
   ]
  },
  {
   "cell_type": "code",
   "execution_count": 34,
   "id": "c812c5fa-d525-41ad-8b78-2877a08dd0d4",
   "metadata": {},
   "outputs": [
    {
     "data": {
      "text/plain": [
       "array(['IRREGULAR-ARCHITECTURAL_DISTORTION', 'ARCHITECTURAL_DISTORTION',\n",
       "       'OVAL', 'IRREGULAR', 'ROUND', 'LYMPH_NODE', 'LOBULATED-LYMPH_NODE',\n",
       "       'LOBULATED', 'FOCAL_ASYMMETRIC_DENSITY',\n",
       "       'LOBULATED-ARCHITECTURAL_DISTORTION', 'ASYMMETRIC_BREAST_TISSUE',\n",
       "       'LOBULATED-IRREGULAR', 'OVAL-LOBULATED', nan, 'OVAL-LYMPH_NODE',\n",
       "       'LOBULATED-OVAL', 'IRREGULAR-ASYMMETRIC_BREAST_TISSUE',\n",
       "       'ROUND-OVAL', 'IRREGULAR-FOCAL_ASYMMETRIC_DENSITY',\n",
       "       'ROUND-IRREGULAR-ARCHITECTURAL_DISTORTION', 'ROUND-LOBULATED'],\n",
       "      dtype=object)"
      ]
     },
     "execution_count": 34,
     "metadata": {},
     "output_type": "execute_result"
    }
   ],
   "source": [
    "df['shape'].unique()"
   ]
  },
  {
   "cell_type": "code",
   "execution_count": 35,
   "id": "8ac7778c-70b6-4161-af07-9a63610d1180",
   "metadata": {},
   "outputs": [],
   "source": [
    "shapes = ['IRREGULAR','ARCHITECTURAL_DISTORTION','OVAL','IRREGULAR', 'LYMPH_NODE',\n",
    "          'LOBULATED', 'FOCAL_ASYMMETRIC_DENSITY','ROUND','ASYMMETRIC_BREAST_TISSUE']"
   ]
  },
  {
   "cell_type": "code",
   "execution_count": 36,
   "id": "864005da-f50c-4d77-9c8f-68b867daadcb",
   "metadata": {},
   "outputs": [],
   "source": [
    "for col in shapes:\n",
    "    df[f'shape-{col.lower()}'] = [int(str(col) in str(x)) for x in df['shape'].values]"
   ]
  },
  {
   "cell_type": "code",
   "execution_count": 37,
   "id": "a59be9cd-31b4-4336-a7b5-20c186a9879d",
   "metadata": {},
   "outputs": [
    {
     "data": {
      "text/plain": [
       "array(['SPICULATED', 'ILL_DEFINED', 'CIRCUMSCRIBED',\n",
       "       'ILL_DEFINED-SPICULATED', 'OBSCURED', 'OBSCURED-ILL_DEFINED', nan,\n",
       "       'MICROLOBULATED', 'MICROLOBULATED-ILL_DEFINED-SPICULATED',\n",
       "       'MICROLOBULATED-SPICULATED', 'CIRCUMSCRIBED-ILL_DEFINED',\n",
       "       'MICROLOBULATED-ILL_DEFINED', 'OBSCURED-CIRCUMSCRIBED',\n",
       "       'CIRCUMSCRIBED-OBSCURED', 'CIRCUMSCRIBED-SPICULATED',\n",
       "       'OBSCURED-SPICULATED', 'CIRCUMSCRIBED-OBSCURED-ILL_DEFINED',\n",
       "       'OBSCURED-ILL_DEFINED-SPICULATED', 'CIRCUMSCRIBED-MICROLOBULATED',\n",
       "       'CIRCUMSCRIBED-MICROLOBULATED-ILL_DEFINED'], dtype=object)"
      ]
     },
     "execution_count": 37,
     "metadata": {},
     "output_type": "execute_result"
    }
   ],
   "source": [
    "df['margins'].unique()"
   ]
  },
  {
   "cell_type": "code",
   "execution_count": 38,
   "id": "f1518c23-7dda-4435-aa34-52433dfee883",
   "metadata": {},
   "outputs": [],
   "source": [
    "margin_types = ['SPICULATED', 'ILL_DEFINED', 'CIRCUMSCRIBED','OBSCURED','MICROLOBULATED']"
   ]
  },
  {
   "cell_type": "code",
   "execution_count": 39,
   "id": "bb93c5db-86e1-4630-b980-d09452cb23e7",
   "metadata": {},
   "outputs": [],
   "source": [
    "for col in margin_types:\n",
    "    df[f'margin-{col.lower()}'] = [int(str(col) in str(x)) for x in df['margins'].values]"
   ]
  },
  {
   "cell_type": "code",
   "execution_count": 40,
   "id": "719a9f9c-90f0-4d41-b723-0292d4c5abc7",
   "metadata": {},
   "outputs": [
    {
     "data": {
      "text/html": [
       "<div>\n",
       "<style scoped>\n",
       "    .dataframe tbody tr th:only-of-type {\n",
       "        vertical-align: middle;\n",
       "    }\n",
       "\n",
       "    .dataframe tbody tr th {\n",
       "        vertical-align: top;\n",
       "    }\n",
       "\n",
       "    .dataframe thead th {\n",
       "        text-align: right;\n",
       "    }\n",
       "</style>\n",
       "<table border=\"1\" class=\"dataframe\">\n",
       "  <thead>\n",
       "    <tr style=\"text-align: right;\">\n",
       "      <th></th>\n",
       "      <th>breast-density</th>\n",
       "      <th>assessment</th>\n",
       "      <th>subtlety</th>\n",
       "      <th>label</th>\n",
       "      <th>shape-irregular</th>\n",
       "      <th>shape-architectural_distortion</th>\n",
       "      <th>shape-oval</th>\n",
       "      <th>shape-lymph_node</th>\n",
       "      <th>shape-lobulated</th>\n",
       "      <th>shape-focal_asymmetric_density</th>\n",
       "      <th>shape-round</th>\n",
       "      <th>shape-asymmetric_breast_tissue</th>\n",
       "      <th>margin-spiculated</th>\n",
       "      <th>margin-ill_defined</th>\n",
       "      <th>margin-circumscribed</th>\n",
       "      <th>margin-obscured</th>\n",
       "      <th>margin-microlobulated</th>\n",
       "    </tr>\n",
       "    <tr>\n",
       "      <th>id</th>\n",
       "      <th></th>\n",
       "      <th></th>\n",
       "      <th></th>\n",
       "      <th></th>\n",
       "      <th></th>\n",
       "      <th></th>\n",
       "      <th></th>\n",
       "      <th></th>\n",
       "      <th></th>\n",
       "      <th></th>\n",
       "      <th></th>\n",
       "      <th></th>\n",
       "      <th></th>\n",
       "      <th></th>\n",
       "      <th></th>\n",
       "      <th></th>\n",
       "      <th></th>\n",
       "    </tr>\n",
       "  </thead>\n",
       "  <tbody>\n",
       "    <tr>\n",
       "      <th>P_02092_LEFT_MLO_1</th>\n",
       "      <td>2</td>\n",
       "      <td>3</td>\n",
       "      <td>2</td>\n",
       "      <td>2</td>\n",
       "      <td>1</td>\n",
       "      <td>0</td>\n",
       "      <td>0</td>\n",
       "      <td>0</td>\n",
       "      <td>0</td>\n",
       "      <td>0</td>\n",
       "      <td>0</td>\n",
       "      <td>0</td>\n",
       "      <td>1</td>\n",
       "      <td>0</td>\n",
       "      <td>0</td>\n",
       "      <td>0</td>\n",
       "      <td>0</td>\n",
       "    </tr>\n",
       "  </tbody>\n",
       "</table>\n",
       "</div>"
      ],
      "text/plain": [
       "                    breast-density  assessment  subtlety  label  \\\n",
       "id                                                                \n",
       "P_02092_LEFT_MLO_1               2           3         2      2   \n",
       "\n",
       "                    shape-irregular  shape-architectural_distortion  \\\n",
       "id                                                                    \n",
       "P_02092_LEFT_MLO_1                1                               0   \n",
       "\n",
       "                    shape-oval  shape-lymph_node  shape-lobulated  \\\n",
       "id                                                                  \n",
       "P_02092_LEFT_MLO_1           0                 0                0   \n",
       "\n",
       "                    shape-focal_asymmetric_density  shape-round  \\\n",
       "id                                                                \n",
       "P_02092_LEFT_MLO_1                               0            0   \n",
       "\n",
       "                    shape-asymmetric_breast_tissue  margin-spiculated  \\\n",
       "id                                                                      \n",
       "P_02092_LEFT_MLO_1                               0                  1   \n",
       "\n",
       "                    margin-ill_defined  margin-circumscribed  margin-obscured  \\\n",
       "id                                                                              \n",
       "P_02092_LEFT_MLO_1                   0                     0                0   \n",
       "\n",
       "                    margin-microlobulated  \n",
       "id                                         \n",
       "P_02092_LEFT_MLO_1                      0  "
      ]
     },
     "execution_count": 40,
     "metadata": {},
     "output_type": "execute_result"
    }
   ],
   "source": [
    "df.drop(columns=['shape','margins'],inplace=True)\n",
    "df.set_index('id',inplace=True)\n",
    "df.tail(1)"
   ]
  },
  {
   "cell_type": "code",
   "execution_count": 41,
   "id": "59678c47-4f46-4169-80e2-efa70b712be7",
   "metadata": {},
   "outputs": [],
   "source": [
    "cols = df.columns.tolist()\n",
    "df = df[cols[4:] + cols[:4]]"
   ]
  },
  {
   "cell_type": "code",
   "execution_count": 42,
   "id": "665b28e9-d462-489a-9439-ade0610bc929",
   "metadata": {},
   "outputs": [
    {
     "data": {
      "text/html": [
       "<div>\n",
       "<style scoped>\n",
       "    .dataframe tbody tr th:only-of-type {\n",
       "        vertical-align: middle;\n",
       "    }\n",
       "\n",
       "    .dataframe tbody tr th {\n",
       "        vertical-align: top;\n",
       "    }\n",
       "\n",
       "    .dataframe thead th {\n",
       "        text-align: right;\n",
       "    }\n",
       "</style>\n",
       "<table border=\"1\" class=\"dataframe\">\n",
       "  <thead>\n",
       "    <tr style=\"text-align: right;\">\n",
       "      <th></th>\n",
       "      <th>shape-irregular</th>\n",
       "      <th>shape-architectural_distortion</th>\n",
       "      <th>shape-oval</th>\n",
       "      <th>shape-lymph_node</th>\n",
       "      <th>shape-lobulated</th>\n",
       "      <th>shape-focal_asymmetric_density</th>\n",
       "      <th>shape-round</th>\n",
       "      <th>shape-asymmetric_breast_tissue</th>\n",
       "      <th>margin-spiculated</th>\n",
       "      <th>margin-ill_defined</th>\n",
       "      <th>margin-circumscribed</th>\n",
       "      <th>margin-obscured</th>\n",
       "      <th>margin-microlobulated</th>\n",
       "      <th>breast-density</th>\n",
       "      <th>assessment</th>\n",
       "      <th>subtlety</th>\n",
       "      <th>label</th>\n",
       "    </tr>\n",
       "    <tr>\n",
       "      <th>id</th>\n",
       "      <th></th>\n",
       "      <th></th>\n",
       "      <th></th>\n",
       "      <th></th>\n",
       "      <th></th>\n",
       "      <th></th>\n",
       "      <th></th>\n",
       "      <th></th>\n",
       "      <th></th>\n",
       "      <th></th>\n",
       "      <th></th>\n",
       "      <th></th>\n",
       "      <th></th>\n",
       "      <th></th>\n",
       "      <th></th>\n",
       "      <th></th>\n",
       "      <th></th>\n",
       "    </tr>\n",
       "  </thead>\n",
       "  <tbody>\n",
       "    <tr>\n",
       "      <th>P_02092_LEFT_MLO_1</th>\n",
       "      <td>1</td>\n",
       "      <td>0</td>\n",
       "      <td>0</td>\n",
       "      <td>0</td>\n",
       "      <td>0</td>\n",
       "      <td>0</td>\n",
       "      <td>0</td>\n",
       "      <td>0</td>\n",
       "      <td>1</td>\n",
       "      <td>0</td>\n",
       "      <td>0</td>\n",
       "      <td>0</td>\n",
       "      <td>0</td>\n",
       "      <td>2</td>\n",
       "      <td>3</td>\n",
       "      <td>2</td>\n",
       "      <td>2</td>\n",
       "    </tr>\n",
       "  </tbody>\n",
       "</table>\n",
       "</div>"
      ],
      "text/plain": [
       "                    shape-irregular  shape-architectural_distortion  \\\n",
       "id                                                                    \n",
       "P_02092_LEFT_MLO_1                1                               0   \n",
       "\n",
       "                    shape-oval  shape-lymph_node  shape-lobulated  \\\n",
       "id                                                                  \n",
       "P_02092_LEFT_MLO_1           0                 0                0   \n",
       "\n",
       "                    shape-focal_asymmetric_density  shape-round  \\\n",
       "id                                                                \n",
       "P_02092_LEFT_MLO_1                               0            0   \n",
       "\n",
       "                    shape-asymmetric_breast_tissue  margin-spiculated  \\\n",
       "id                                                                      \n",
       "P_02092_LEFT_MLO_1                               0                  1   \n",
       "\n",
       "                    margin-ill_defined  margin-circumscribed  margin-obscured  \\\n",
       "id                                                                              \n",
       "P_02092_LEFT_MLO_1                   0                     0                0   \n",
       "\n",
       "                    margin-microlobulated  breast-density  assessment  \\\n",
       "id                                                                      \n",
       "P_02092_LEFT_MLO_1                      0               2           3   \n",
       "\n",
       "                    subtlety  label  \n",
       "id                                   \n",
       "P_02092_LEFT_MLO_1         2      2  "
      ]
     },
     "execution_count": 42,
     "metadata": {},
     "output_type": "execute_result"
    }
   ],
   "source": [
    "df.tail(1)"
   ]
  },
  {
   "cell_type": "code",
   "execution_count": 43,
   "id": "2f0faab3-23da-4562-abb8-0b7fcb87a73a",
   "metadata": {},
   "outputs": [],
   "source": [
    "df.to_csv('data/cbis-ddsm/mass-features.csv')"
   ]
  },
  {
   "cell_type": "code",
   "execution_count": null,
   "id": "c5ddf413-aa46-410f-a769-4fc358507b4e",
   "metadata": {},
   "outputs": [],
   "source": []
  }
 ],
 "metadata": {
  "kernelspec": {
   "display_name": "Python 3 (ipykernel)",
   "language": "python",
   "name": "python3"
  },
  "language_info": {
   "codemirror_mode": {
    "name": "ipython",
    "version": 3
   },
   "file_extension": ".py",
   "mimetype": "text/x-python",
   "name": "python",
   "nbconvert_exporter": "python",
   "pygments_lexer": "ipython3",
   "version": "3.10.14"
  }
 },
 "nbformat": 4,
 "nbformat_minor": 5
}
