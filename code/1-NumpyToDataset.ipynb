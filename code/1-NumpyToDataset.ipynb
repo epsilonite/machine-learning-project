{
 "cells": [
  {
   "cell_type": "code",
   "execution_count": 18,
   "id": "885efc0f-e3bc-4f55-b289-67d5f084bf61",
   "metadata": {},
   "outputs": [],
   "source": [
    "import pandas as pd\n",
    "import numpy as np\n",
    "import tensorflow as tf"
   ]
  },
  {
   "cell_type": "code",
   "execution_count": 9,
   "id": "fdecc54c-c03e-4fc7-9f52-a321f85a36b0",
   "metadata": {},
   "outputs": [],
   "source": [
    "# Global Variables\n",
    "dir = 'data/cbis-ddsm/'"
   ]
  },
  {
   "cell_type": "code",
   "execution_count": 15,
   "id": "aeaf8daf-0cb6-4b08-abdf-37707fa4ee5d",
   "metadata": {},
   "outputs": [
    {
     "data": {
      "text/html": [
       "<div>\n",
       "<style scoped>\n",
       "    .dataframe tbody tr th:only-of-type {\n",
       "        vertical-align: middle;\n",
       "    }\n",
       "\n",
       "    .dataframe tbody tr th {\n",
       "        vertical-align: top;\n",
       "    }\n",
       "\n",
       "    .dataframe thead th {\n",
       "        text-align: right;\n",
       "    }\n",
       "</style>\n",
       "<table border=\"1\" class=\"dataframe\">\n",
       "  <thead>\n",
       "    <tr style=\"text-align: right;\">\n",
       "      <th></th>\n",
       "      <th>identifier</th>\n",
       "      <th>pathology</th>\n",
       "    </tr>\n",
       "  </thead>\n",
       "  <tbody>\n",
       "    <tr>\n",
       "      <th>1695</th>\n",
       "      <td>P_02092_LEFT_MLO_1</td>\n",
       "      <td>2</td>\n",
       "    </tr>\n",
       "  </tbody>\n",
       "</table>\n",
       "</div>"
      ],
      "text/plain": [
       "              identifier  pathology\n",
       "1695  P_02092_LEFT_MLO_1          2"
      ]
     },
     "execution_count": 15,
     "metadata": {},
     "output_type": "execute_result"
    }
   ],
   "source": [
    "# Import labels\n",
    "df = pd.read_csv(f'{dir}mass-labels.csv')\n",
    "df.tail(1)"
   ]
  },
  {
   "cell_type": "code",
   "execution_count": 23,
   "id": "48682e29-1842-432d-a6dd-5f0b85ffddf9",
   "metadata": {},
   "outputs": [
    {
     "data": {
      "text/plain": [
       "array([[ 62.5524203 ,  63.86429184,  52.932029  , ...,  70.86094006,\n",
       "         63.86429184,  78.7321693 ],\n",
       "       [ 60.36596773,  64.73887287,  62.98971081, ...,  88.3525606 ,\n",
       "         74.35926417,  70.42364954],\n",
       "       [ 42.41717983,  47.68454283,  53.80661002, ...,  96.66108036,\n",
       "         95.34920882,  88.78985112],\n",
       "       ...,\n",
       "       [108.90521475, 108.46792423, 108.03063372, ..., 219.57946839,\n",
       "        220.45404942, 223.0777925 ],\n",
       "       [ 96.66108036, 100.59669499, 104.53230961, ..., 218.26759685,\n",
       "        223.0777925 , 226.57611661],\n",
       "       [100.59669499,  99.28482345,  87.47797958, ..., 231.38631226,\n",
       "        227.01340712, 227.01340712]])"
      ]
     },
     "execution_count": 23,
     "metadata": {},
     "output_type": "execute_result"
    }
   ],
   "source": [
    "# Import npy data\n",
    "img_npys = [np.load(f'{dir}mass-npy/{x}.npy') for x in df.identifier]\n",
    "img_npys[-1]"
   ]
  },
  {
   "cell_type": "code",
   "execution_count": 45,
   "id": "0b3cd909-917f-4158-a70e-5a8c21275d1e",
   "metadata": {},
   "outputs": [],
   "source": [
    "# Functions for preprocessing\n",
    "# Resize Images from import to shape (224,224,3)\n",
    "def resize(img_npys, size=(224, 224)):\n",
    "    resized_imgs = [tf.image.resize(np.stack([img] * 1, axis=-1), size).numpy() for img in img_npys]\n",
    "    return resized_imgs\n",
    "# Create Dataset from imports, and boolean for data augmentation\n",
    "def create_dataset(imgs, labels, augment=False):\n",
    "    # Convert lists of numpy arrays and labels into tf.data.Dataset\n",
    "    dataset = tf.data.Dataset.from_tensor_slices((imgs, labels))\n",
    "    # Data augmentation function\n",
    "    def augment_image(image, label):\n",
    "        image = tf.image.random_flip_left_right(image)\n",
    "        image = tf.image.random_flip_up_down(image)\n",
    "        image = tf.image.rot90(image, k=tf.random.uniform(shape=[], minval=0, maxval=4, dtype=tf.int32))\n",
    "        image = tf.image.random_brightness(image, max_delta=0.2)\n",
    "        image = tf.image.random_contrast(image, lower=0.8, upper=1.2)\n",
    "        return image, label\n",
    "    # Apply data augmentation to the training dataset only\n",
    "    if augment: dataset = dataset.map(augment_image, num_parallel_calls=tf.data.AUTOTUNE)\n",
    "    return dataset"
   ]
  },
  {
   "cell_type": "code",
   "execution_count": 46,
   "id": "60f17a60-0365-4650-b231-7b560a453176",
   "metadata": {},
   "outputs": [],
   "source": [
    "# Resize images\n",
    "imgs = resize(img_npys)"
   ]
  },
  {
   "cell_type": "code",
   "execution_count": 47,
   "id": "51f00ce7-440a-466d-9d63-978c079febfd",
   "metadata": {},
   "outputs": [
    {
     "data": {
      "text/plain": [
       "(224, 224, 1)"
      ]
     },
     "execution_count": 47,
     "metadata": {},
     "output_type": "execute_result"
    }
   ],
   "source": [
    "imgs[0].shape"
   ]
  },
  {
   "cell_type": "code",
   "execution_count": 48,
   "id": "f4e8888d-3e0f-465c-a2a7-5047a5599ff0",
   "metadata": {},
   "outputs": [],
   "source": [
    "# Create the dataset\n",
    "ds = create_dataset(imgs, df.pathology)"
   ]
  },
  {
   "cell_type": "code",
   "execution_count": 49,
   "id": "30ad45f3-887d-4ffc-984a-50d32b634e8c",
   "metadata": {},
   "outputs": [],
   "source": [
    "# Shuffle the dataset\n",
    "ds_rnd = ds.shuffle(buffer_size=len(imgs), seed=42)"
   ]
  },
  {
   "cell_type": "code",
   "execution_count": 50,
   "id": "c2accaba-6274-4e03-b58a-121c5d5b6cd8",
   "metadata": {},
   "outputs": [
    {
     "name": "stdout",
     "output_type": "stream",
     "text": [
      "1696 1356 170\n"
     ]
    }
   ],
   "source": [
    "# Calculate the sizes of training, validation, and test sets\n",
    "dim = len(imgs)\n",
    "dim1 = round(0.1*dim_ttl)\n",
    "dim8 = dim-2*dim1\n",
    "print(dim,dim8,dim1)"
   ]
  },
  {
   "cell_type": "code",
   "execution_count": 51,
   "id": "0d9b998d-eb9f-41fd-99a1-3902c3187ed8",
   "metadata": {},
   "outputs": [],
   "source": [
    "# Split the dataset\n",
    "ds_train = ds_rnd.take(dim8)\n",
    "ds_r = ds_rnd.skip(dim8)\n",
    "ds_val = ds_r.take(dim1)\n",
    "ds_test = ds_r.skip(dim1)"
   ]
  },
  {
   "cell_type": "code",
   "execution_count": 56,
   "id": "6471ffb5-5ae9-4838-bcf8-51b46fa24a91",
   "metadata": {},
   "outputs": [],
   "source": [
    "# Functions to export datasets using the TFRecord format\n",
    "def serialize_example(image, label):\n",
    "    image = tf.reshape(image, [-1])\n",
    "    feature = {\n",
    "        'image': tf.train.Feature(float_list=tf.train.FloatList(value=image)),\n",
    "        'label': tf.train.Feature(int64_list=tf.train.Int64List(value=[label]))\n",
    "    }\n",
    "    example_proto = tf.train.Example(features=tf.train.Features(feature=feature))\n",
    "    return example_proto.SerializeToString()\n",
    "def write_tfrecord(dataset, filename):\n",
    "    with tf.io.TFRecordWriter(filename) as writer:\n",
    "        for image, label in dataset:\n",
    "            serialized_example = serialize_example(image, label)\n",
    "            writer.write(serialized_example)"
   ]
  },
  {
   "cell_type": "code",
   "execution_count": null,
   "id": "d8913ee7-9c40-412f-a3ea-48ec0b4f9a49",
   "metadata": {},
   "outputs": [],
   "source": [
    "# Export Datasets\n",
    "write_tfrecord(ds_train, 'data/ds_train.tfrecord')\n",
    "write_tfrecord(ds_val, 'data/ds_val.tfrecord')\n",
    "write_tfrecord(ds_test, 'data/ds_test.tfrecord')"
   ]
  },
  {
   "cell_type": "code",
   "execution_count": null,
   "id": "6d8ddf87-579f-4201-ac77-bdc94afdf166",
   "metadata": {},
   "outputs": [],
   "source": []
  }
 ],
 "metadata": {
  "kernelspec": {
   "display_name": "Python 3 (ipykernel)",
   "language": "python",
   "name": "python3"
  },
  "language_info": {
   "codemirror_mode": {
    "name": "ipython",
    "version": 3
   },
   "file_extension": ".py",
   "mimetype": "text/x-python",
   "name": "python",
   "nbconvert_exporter": "python",
   "pygments_lexer": "ipython3",
   "version": "3.10.14"
  }
 },
 "nbformat": 4,
 "nbformat_minor": 5
}
