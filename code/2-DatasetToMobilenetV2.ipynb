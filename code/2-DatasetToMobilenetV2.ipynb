{
 "cells": [
  {
   "cell_type": "code",
   "execution_count": null,
   "id": "f7170759-d9f5-4d5e-a393-463d80fffa04",
   "metadata": {},
   "outputs": [],
   "source": [
    "import tensorflow as tf"
   ]
  },
  {
   "cell_type": "code",
   "execution_count": null,
   "id": "b02403d0-3248-4912-b14e-e9b5a73d697e",
   "metadata": {},
   "outputs": [],
   "source": [
    "# Function to parse the TFRecord file\n",
    "def parse_example(example_proto):\n",
    "    # Define the feature description dictionary\n",
    "    feature_description = {\n",
    "        'image': tf.io.FixedLenFeature([224 * 224 * 3], tf.float32),  # Assuming RGB images flattened\n",
    "        'label': tf.io.FixedLenFeature([], tf.int64)\n",
    "    }\n",
    "    # Parse the input tf.train.Example proto using the dictionary\n",
    "    parsed_example = tf.io.parse_single_example(example_proto, feature_description)\n",
    "    # Reshape the image to its original dimensions\n",
    "    image = tf.reshape(parsed_example['image'], [224, 224, 3])\n",
    "    label = parsed_example['label']\n",
    "    return image, label\n",
    "\n",
    "# Load the TFRecord files\n",
    "def load_dataset(filename):\n",
    "    # Create a TFRecordDataset from the file\n",
    "    raw_dataset = tf.data.TFRecordDataset(filename)\n",
    "    # Parse the dataset\n",
    "    parsed_dataset = raw_dataset.map(parse_example, num_parallel_calls=tf.data.AUTOTUNE)\n",
    "    return parsed_dataset\n",
    "\n",
    "# Load the training, validation, and test datasets\n",
    "train_dataset = load_dataset('train_dataset.tfrecord')\n",
    "val_dataset = load_dataset('val_dataset.tfrecord')\n",
    "test_dataset = load_dataset('test_dataset.tfrecord')\n",
    "\n",
    "# Batch the datasets for training and evaluation\n",
    "batch_size = 32\n",
    "train_dataset = train_dataset.batch(batch_size).prefetch(buffer_size=tf.data.AUTOTUNE)\n",
    "val_dataset = val_dataset.batch(batch_size).prefetch(buffer_size=tf.data.AUTOTUNE)\n",
    "test_dataset = test_dataset.batch(batch_size).prefetch(buffer_size=tf.data.AUTOTUNE)\n",
    "\n",
    "# Example of building a MobileNet model\n",
    "base_model = tf.keras.applications.MobileNetV2(input_shape=(224, 224, 3),\n",
    "                                               include_top=False,\n",
    "                                               weights='imagenet')\n",
    "base_model.trainable = False\n",
    "\n",
    "# Add custom layers for classification\n",
    "global_avg_layer = tf.keras.layers.GlobalAveragePooling2D()\n",
    "dense_layer = tf.keras.layers.Dense(1, activation='sigmoid')  # Assuming binary classification\n",
    "\n",
    "# Assemble the model\n",
    "model = tf.keras.Sequential([\n",
    "    base_model,\n",
    "    global_avg_layer,\n",
    "    dense_layer\n",
    "])\n",
    "\n",
    "# Compile the model\n",
    "model.compile(optimizer=tf.keras.optimizers.Adam(),\n",
    "              loss='binary_crossentropy',\n",
    "              metrics=['accuracy'])\n",
    "\n",
    "# Train the model\n",
    "model.fit(train_dataset,\n",
    "          validation_data=val_dataset,\n",
    "          epochs=10)\n",
    "\n",
    "# Evaluate the model\n",
    "eval_results = model.evaluate(test_dataset)\n",
    "print(f\"Test Loss: {eval_results[0]}, Test Accuracy: {eval_results[1]}\")"
   ]
  }
 ],
 "metadata": {
  "kernelspec": {
   "display_name": "Python 3 (ipykernel)",
   "language": "python",
   "name": "python3"
  },
  "language_info": {
   "codemirror_mode": {
    "name": "ipython",
    "version": 3
   },
   "file_extension": ".py",
   "mimetype": "text/x-python",
   "name": "python",
   "nbconvert_exporter": "python",
   "pygments_lexer": "ipython3",
   "version": "3.10.14"
  }
 },
 "nbformat": 4,
 "nbformat_minor": 5
}
