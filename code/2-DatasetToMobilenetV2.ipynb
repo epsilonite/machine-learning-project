{
 "cells": [
  {
   "cell_type": "code",
   "execution_count": 1,
   "id": "KThtWptSMABJ",
   "metadata": {
    "executionInfo": {
     "elapsed": 314,
     "status": "ok",
     "timestamp": 1731372853804,
     "user": {
      "displayName": "be han",
      "userId": "11093965106474063064"
     },
     "user_tz": 480
    },
    "id": "KThtWptSMABJ"
   },
   "outputs": [],
   "source": [
    "import numpy as np\n",
    "import pandas as pd\n",
    "import tensorflow as tf\n",
    "import time"
   ]
  },
  {
   "cell_type": "code",
   "execution_count": 20,
   "id": "e9cbca42-1b58-4a78-b6a6-9b8f4d6452df",
   "metadata": {
    "executionInfo": {
     "elapsed": 2,
     "status": "ok",
     "timestamp": 1731372855418,
     "user": {
      "displayName": "be han",
      "userId": "11093965106474063064"
     },
     "user_tz": 480
    },
    "id": "e9cbca42-1b58-4a78-b6a6-9b8f4d6452df"
   },
   "outputs": [],
   "source": [
    "dir = 'data/'\n",
    "modelname = 'mobilenetv2'"
   ]
  },
  {
   "cell_type": "code",
   "execution_count": 3,
   "id": "54aa3306-1122-4a48-beb1-dadcbdd70fc6",
   "metadata": {
    "executionInfo": {
     "elapsed": 715,
     "status": "ok",
     "timestamp": 1731372857430,
     "user": {
      "displayName": "be han",
      "userId": "11093965106474063064"
     },
     "user_tz": 480
    },
    "id": "54aa3306-1122-4a48-beb1-dadcbdd70fc6"
   },
   "outputs": [],
   "source": [
    "def load_tfrecord_dataset(file_path):\n",
    "    # Define a function to parse the TFRecord file\n",
    "    feature_description = {\n",
    "        'image': tf.io.FixedLenFeature([224 * 224 * 1], tf.float32),\n",
    "        'label': tf.io.FixedLenFeature([], tf.int64)\n",
    "    }\n",
    "\n",
    "    def _parse_function(example_proto):\n",
    "        # Parse the input tf.train.Example proto using the feature description\n",
    "        parsed_features = tf.io.parse_single_example(example_proto, feature_description)\n",
    "        image = tf.reshape(parsed_features['image'], [224, 224, 1])\n",
    "        label = parsed_features['label']\n",
    "        return image, label\n",
    "\n",
    "    # Load and parse the dataset\n",
    "    raw_dataset = tf.data.TFRecordDataset(file_path)\n",
    "    parsed_dataset = raw_dataset.map(_parse_function, num_parallel_calls=tf.data.AUTOTUNE)\n",
    "    return parsed_dataset\n",
    "\n",
    "# Load the datasets from TFRecord files\n",
    "ds_train = load_tfrecord_dataset(f'{dir}ds_train.tfrecord')\n",
    "ds_val = load_tfrecord_dataset(f'{dir}ds_val.tfrecord')\n",
    "ds_test = load_tfrecord_dataset(f'{dir}ds_test.tfrecord')"
   ]
  },
  {
   "cell_type": "code",
   "execution_count": 4,
   "id": "y7k_iaodN9RJ",
   "metadata": {
    "executionInfo": {
     "elapsed": 3,
     "status": "ok",
     "timestamp": 1731372860982,
     "user": {
      "displayName": "be han",
      "userId": "11093965106474063064"
     },
     "user_tz": 480
    },
    "id": "y7k_iaodN9RJ"
   },
   "outputs": [],
   "source": [
    "# Preprocess the datasets\n",
    "def preprocess_dataset(dataset):\n",
    "    # Apply preprocessing using a lambda function to convert grayscale to RGB and preprocess\n",
    "    def refactor(image,label):\n",
    "        return tf.keras.applications.mobilenet_v2.preprocess_input(tf.image.grayscale_to_rgb(image)), label\n",
    "    dataset = dataset.map(refactor, num_parallel_calls=tf.data.AUTOTUNE)\n",
    "    return dataset\n",
    "# Apply preprocess to datasets\n",
    "ds_train = preprocess_dataset(ds_train)\n",
    "ds_val = preprocess_dataset(ds_val)\n",
    "ds_test = preprocess_dataset(ds_test)"
   ]
  },
  {
   "cell_type": "code",
   "execution_count": 5,
   "id": "nLxG9yQIlnrY",
   "metadata": {
    "executionInfo": {
     "elapsed": 316,
     "status": "ok",
     "timestamp": 1731372862455,
     "user": {
      "displayName": "be han",
      "userId": "11093965106474063064"
     },
     "user_tz": 480
    },
    "id": "nLxG9yQIlnrY"
   },
   "outputs": [],
   "source": [
    "# Batch the datasets for training and evaluation\n",
    "batch_size = 16\n",
    "ds_train = ds_train.batch(batch_size).prefetch(buffer_size=tf.data.AUTOTUNE)\n",
    "ds_val = ds_val.batch(batch_size).prefetch(buffer_size=tf.data.AUTOTUNE)\n",
    "ds_test = ds_test.batch(batch_size).prefetch(buffer_size=tf.data.AUTOTUNE)"
   ]
  },
  {
   "cell_type": "code",
   "execution_count": 6,
   "id": "b02403d0-3248-4912-b14e-e9b5a73d697e",
   "metadata": {
    "executionInfo": {
     "elapsed": 1072,
     "status": "ok",
     "timestamp": 1731372866022,
     "user": {
      "displayName": "be han",
      "userId": "11093965106474063064"
     },
     "user_tz": 480
    },
    "id": "b02403d0-3248-4912-b14e-e9b5a73d697e"
   },
   "outputs": [],
   "source": [
    "# Example of building a MobileNet model\n",
    "base_model = tf.keras.applications.MobileNetV2(input_shape=(224, 224, 3),\n",
    "                                               include_top=False,\n",
    "                                               weights='imagenet')\n",
    "base_model.trainable = False\n",
    "# Add custom layers for classification\n",
    "global_avg_layer = tf.keras.layers.GlobalAveragePooling2D()\n",
    "dense_layer = tf.keras.layers.Dense(3, activation='softmax')  # Multi-class classification for labels [0, 1, 2]\n",
    "# Assemble the model\n",
    "model = tf.keras.Sequential([\n",
    "    base_model,\n",
    "    global_avg_layer,\n",
    "    dense_layer\n",
    "])\n",
    "# Compile the model\n",
    "model.compile(optimizer=tf.keras.optimizers.Adam(),\n",
    "              loss='sparse_categorical_crossentropy',\n",
    "              metrics=['accuracy'])"
   ]
  },
  {
   "cell_type": "code",
   "execution_count": 7,
   "id": "MmPbm7jKl2p-",
   "metadata": {
    "colab": {
     "base_uri": "https://localhost:8080/"
    },
    "executionInfo": {
     "elapsed": 3615212,
     "status": "ok",
     "timestamp": 1731382924214,
     "user": {
      "displayName": "be han",
      "userId": "11093965106474063064"
     },
     "user_tz": 480
    },
    "id": "MmPbm7jKl2p-",
    "outputId": "19d4d50d-90ad-448d-dcc0-76589d12fbb4"
   },
   "outputs": [
    {
     "name": "stdout",
     "output_type": "stream",
     "text": [
      "Epoch 1/100\n",
      "     85/Unknown \u001b[1m11s\u001b[0m 70ms/step - accuracy: 0.4339 - loss: 1.2044"
     ]
    },
    {
     "name": "stderr",
     "output_type": "stream",
     "text": [
      "C:\\Users\\b25ch\\anaconda3\\envs\\dev\\lib\\contextlib.py:153: UserWarning: Your input ran out of data; interrupting training. Make sure that your dataset or generator can generate at least `steps_per_epoch * epochs` batches. You may need to use the `.repeat()` function when building your dataset.\n",
      "  self.gen.throw(typ, value, traceback)\n"
     ]
    },
    {
     "name": "stdout",
     "output_type": "stream",
     "text": [
      "\u001b[1m85/85\u001b[0m \u001b[32m━━━━━━━━━━━━━━━━━━━━\u001b[0m\u001b[37m\u001b[0m \u001b[1m13s\u001b[0m 96ms/step - accuracy: 0.4350 - loss: 1.2019 - val_accuracy: 0.6882 - val_loss: 0.8187\n",
      "Epoch 2/100\n",
      "\u001b[1m85/85\u001b[0m \u001b[32m━━━━━━━━━━━━━━━━━━━━\u001b[0m\u001b[37m\u001b[0m \u001b[1m7s\u001b[0m 82ms/step - accuracy: 0.6215 - loss: 0.8226 - val_accuracy: 0.7353 - val_loss: 0.7803\n",
      "Epoch 3/100\n",
      "\u001b[1m85/85\u001b[0m \u001b[32m━━━━━━━━━━━━━━━━━━━━\u001b[0m\u001b[37m\u001b[0m \u001b[1m7s\u001b[0m 80ms/step - accuracy: 0.6679 - loss: 0.7692 - val_accuracy: 0.7294 - val_loss: 0.7526\n",
      "Epoch 4/100\n",
      "\u001b[1m85/85\u001b[0m \u001b[32m━━━━━━━━━━━━━━━━━━━━\u001b[0m\u001b[37m\u001b[0m \u001b[1m7s\u001b[0m 81ms/step - accuracy: 0.6985 - loss: 0.7332 - val_accuracy: 0.7118 - val_loss: 0.7314\n",
      "Epoch 5/100\n",
      "\u001b[1m85/85\u001b[0m \u001b[32m━━━━━━━━━━━━━━━━━━━━\u001b[0m\u001b[37m\u001b[0m \u001b[1m7s\u001b[0m 81ms/step - accuracy: 0.7141 - loss: 0.7045 - val_accuracy: 0.7353 - val_loss: 0.7150\n",
      "Epoch 6/100\n",
      "\u001b[1m85/85\u001b[0m \u001b[32m━━━━━━━━━━━━━━━━━━━━\u001b[0m\u001b[37m\u001b[0m \u001b[1m7s\u001b[0m 82ms/step - accuracy: 0.7154 - loss: 0.6802 - val_accuracy: 0.7235 - val_loss: 0.7015\n",
      "Epoch 7/100\n",
      "\u001b[1m85/85\u001b[0m \u001b[32m━━━━━━━━━━━━━━━━━━━━\u001b[0m\u001b[37m\u001b[0m \u001b[1m7s\u001b[0m 82ms/step - accuracy: 0.7245 - loss: 0.6590 - val_accuracy: 0.7235 - val_loss: 0.6899\n",
      "Epoch 8/100\n",
      "\u001b[1m85/85\u001b[0m \u001b[32m━━━━━━━━━━━━━━━━━━━━\u001b[0m\u001b[37m\u001b[0m \u001b[1m7s\u001b[0m 82ms/step - accuracy: 0.7323 - loss: 0.6400 - val_accuracy: 0.7235 - val_loss: 0.6796\n",
      "Epoch 9/100\n",
      "\u001b[1m85/85\u001b[0m \u001b[32m━━━━━━━━━━━━━━━━━━━━\u001b[0m\u001b[37m\u001b[0m \u001b[1m7s\u001b[0m 82ms/step - accuracy: 0.7418 - loss: 0.6229 - val_accuracy: 0.7235 - val_loss: 0.6703\n",
      "Epoch 10/100\n",
      "\u001b[1m85/85\u001b[0m \u001b[32m━━━━━━━━━━━━━━━━━━━━\u001b[0m\u001b[37m\u001b[0m \u001b[1m7s\u001b[0m 80ms/step - accuracy: 0.7461 - loss: 0.6073 - val_accuracy: 0.7235 - val_loss: 0.6617\n",
      "Epoch 11/100\n",
      "\u001b[1m85/85\u001b[0m \u001b[32m━━━━━━━━━━━━━━━━━━━━\u001b[0m\u001b[37m\u001b[0m \u001b[1m7s\u001b[0m 83ms/step - accuracy: 0.7505 - loss: 0.5928 - val_accuracy: 0.7294 - val_loss: 0.6537\n",
      "Epoch 12/100\n",
      "\u001b[1m85/85\u001b[0m \u001b[32m━━━━━━━━━━━━━━━━━━━━\u001b[0m\u001b[37m\u001b[0m \u001b[1m7s\u001b[0m 79ms/step - accuracy: 0.7529 - loss: 0.5794 - val_accuracy: 0.7294 - val_loss: 0.6463\n",
      "Epoch 13/100\n",
      "\u001b[1m85/85\u001b[0m \u001b[32m━━━━━━━━━━━━━━━━━━━━\u001b[0m\u001b[37m\u001b[0m \u001b[1m7s\u001b[0m 83ms/step - accuracy: 0.7555 - loss: 0.5669 - val_accuracy: 0.7294 - val_loss: 0.6393\n",
      "Epoch 14/100\n",
      "\u001b[1m85/85\u001b[0m \u001b[32m━━━━━━━━━━━━━━━━━━━━\u001b[0m\u001b[37m\u001b[0m \u001b[1m7s\u001b[0m 83ms/step - accuracy: 0.7569 - loss: 0.5552 - val_accuracy: 0.7353 - val_loss: 0.6327\n",
      "Epoch 15/100\n",
      "\u001b[1m85/85\u001b[0m \u001b[32m━━━━━━━━━━━━━━━━━━━━\u001b[0m\u001b[37m\u001b[0m \u001b[1m7s\u001b[0m 85ms/step - accuracy: 0.7612 - loss: 0.5442 - val_accuracy: 0.7412 - val_loss: 0.6264\n",
      "Epoch 16/100\n",
      "\u001b[1m85/85\u001b[0m \u001b[32m━━━━━━━━━━━━━━━━━━━━\u001b[0m\u001b[37m\u001b[0m \u001b[1m7s\u001b[0m 85ms/step - accuracy: 0.7648 - loss: 0.5337 - val_accuracy: 0.7529 - val_loss: 0.6204\n",
      "Epoch 17/100\n",
      "\u001b[1m85/85\u001b[0m \u001b[32m━━━━━━━━━━━━━━━━━━━━\u001b[0m\u001b[37m\u001b[0m \u001b[1m7s\u001b[0m 85ms/step - accuracy: 0.7710 - loss: 0.5238 - val_accuracy: 0.7529 - val_loss: 0.6147\n",
      "Epoch 18/100\n",
      "\u001b[1m85/85\u001b[0m \u001b[32m━━━━━━━━━━━━━━━━━━━━\u001b[0m\u001b[37m\u001b[0m \u001b[1m7s\u001b[0m 82ms/step - accuracy: 0.7806 - loss: 0.5144 - val_accuracy: 0.7529 - val_loss: 0.6093\n",
      "Epoch 19/100\n",
      "\u001b[1m85/85\u001b[0m \u001b[32m━━━━━━━━━━━━━━━━━━━━\u001b[0m\u001b[37m\u001b[0m \u001b[1m7s\u001b[0m 84ms/step - accuracy: 0.7867 - loss: 0.5054 - val_accuracy: 0.7588 - val_loss: 0.6041\n",
      "Epoch 20/100\n",
      "\u001b[1m85/85\u001b[0m \u001b[32m━━━━━━━━━━━━━━━━━━━━\u001b[0m\u001b[37m\u001b[0m \u001b[1m7s\u001b[0m 83ms/step - accuracy: 0.7887 - loss: 0.4969 - val_accuracy: 0.7588 - val_loss: 0.5992\n",
      "Epoch 21/100\n",
      "\u001b[1m85/85\u001b[0m \u001b[32m━━━━━━━━━━━━━━━━━━━━\u001b[0m\u001b[37m\u001b[0m \u001b[1m7s\u001b[0m 82ms/step - accuracy: 0.7934 - loss: 0.4886 - val_accuracy: 0.7706 - val_loss: 0.5944\n",
      "Epoch 22/100\n",
      "\u001b[1m85/85\u001b[0m \u001b[32m━━━━━━━━━━━━━━━━━━━━\u001b[0m\u001b[37m\u001b[0m \u001b[1m7s\u001b[0m 87ms/step - accuracy: 0.7998 - loss: 0.4808 - val_accuracy: 0.7706 - val_loss: 0.5899\n",
      "Epoch 23/100\n",
      "\u001b[1m85/85\u001b[0m \u001b[32m━━━━━━━━━━━━━━━━━━━━\u001b[0m\u001b[37m\u001b[0m \u001b[1m7s\u001b[0m 79ms/step - accuracy: 0.8093 - loss: 0.4732 - val_accuracy: 0.7647 - val_loss: 0.5856\n",
      "Epoch 24/100\n",
      "\u001b[1m85/85\u001b[0m \u001b[32m━━━━━━━━━━━━━━━━━━━━\u001b[0m\u001b[37m\u001b[0m \u001b[1m7s\u001b[0m 83ms/step - accuracy: 0.8141 - loss: 0.4659 - val_accuracy: 0.7765 - val_loss: 0.5815\n",
      "Epoch 25/100\n",
      "\u001b[1m85/85\u001b[0m \u001b[32m━━━━━━━━━━━━━━━━━━━━\u001b[0m\u001b[37m\u001b[0m \u001b[1m7s\u001b[0m 80ms/step - accuracy: 0.8211 - loss: 0.4588 - val_accuracy: 0.7706 - val_loss: 0.5775\n",
      "Epoch 26/100\n",
      "\u001b[1m85/85\u001b[0m \u001b[32m━━━━━━━━━━━━━━━━━━━━\u001b[0m\u001b[37m\u001b[0m \u001b[1m7s\u001b[0m 81ms/step - accuracy: 0.8235 - loss: 0.4520 - val_accuracy: 0.7706 - val_loss: 0.5737\n",
      "Epoch 27/100\n",
      "\u001b[1m85/85\u001b[0m \u001b[32m━━━━━━━━━━━━━━━━━━━━\u001b[0m\u001b[37m\u001b[0m \u001b[1m7s\u001b[0m 83ms/step - accuracy: 0.8265 - loss: 0.4454 - val_accuracy: 0.7824 - val_loss: 0.5701\n",
      "Epoch 28/100\n",
      "\u001b[1m85/85\u001b[0m \u001b[32m━━━━━━━━━━━━━━━━━━━━\u001b[0m\u001b[37m\u001b[0m \u001b[1m7s\u001b[0m 83ms/step - accuracy: 0.8355 - loss: 0.4390 - val_accuracy: 0.7824 - val_loss: 0.5666\n",
      "Epoch 29/100\n",
      "\u001b[1m85/85\u001b[0m \u001b[32m━━━━━━━━━━━━━━━━━━━━\u001b[0m\u001b[37m\u001b[0m \u001b[1m7s\u001b[0m 87ms/step - accuracy: 0.8393 - loss: 0.4329 - val_accuracy: 0.7824 - val_loss: 0.5633\n",
      "Epoch 30/100\n",
      "\u001b[1m85/85\u001b[0m \u001b[32m━━━━━━━━━━━━━━━━━━━━\u001b[0m\u001b[37m\u001b[0m \u001b[1m7s\u001b[0m 85ms/step - accuracy: 0.8431 - loss: 0.4269 - val_accuracy: 0.7824 - val_loss: 0.5601\n",
      "Epoch 31/100\n",
      "\u001b[1m85/85\u001b[0m \u001b[32m━━━━━━━━━━━━━━━━━━━━\u001b[0m\u001b[37m\u001b[0m \u001b[1m7s\u001b[0m 84ms/step - accuracy: 0.8451 - loss: 0.4211 - val_accuracy: 0.7941 - val_loss: 0.5571\n",
      "Epoch 32/100\n",
      "\u001b[1m85/85\u001b[0m \u001b[32m━━━━━━━━━━━━━━━━━━━━\u001b[0m\u001b[37m\u001b[0m \u001b[1m7s\u001b[0m 86ms/step - accuracy: 0.8489 - loss: 0.4154 - val_accuracy: 0.7882 - val_loss: 0.5541\n",
      "Epoch 33/100\n",
      "\u001b[1m85/85\u001b[0m \u001b[32m━━━━━━━━━━━━━━━━━━━━\u001b[0m\u001b[37m\u001b[0m \u001b[1m7s\u001b[0m 86ms/step - accuracy: 0.8504 - loss: 0.4099 - val_accuracy: 0.7941 - val_loss: 0.5513\n",
      "Epoch 34/100\n",
      "\u001b[1m85/85\u001b[0m \u001b[32m━━━━━━━━━━━━━━━━━━━━\u001b[0m\u001b[37m\u001b[0m \u001b[1m7s\u001b[0m 85ms/step - accuracy: 0.8504 - loss: 0.4046 - val_accuracy: 0.7941 - val_loss: 0.5486\n",
      "Epoch 35/100\n",
      "\u001b[1m85/85\u001b[0m \u001b[32m━━━━━━━━━━━━━━━━━━━━\u001b[0m\u001b[37m\u001b[0m \u001b[1m7s\u001b[0m 84ms/step - accuracy: 0.8516 - loss: 0.3994 - val_accuracy: 0.8000 - val_loss: 0.5460\n",
      "Epoch 36/100\n",
      "\u001b[1m85/85\u001b[0m \u001b[32m━━━━━━━━━━━━━━━━━━━━\u001b[0m\u001b[37m\u001b[0m \u001b[1m7s\u001b[0m 84ms/step - accuracy: 0.8545 - loss: 0.3943 - val_accuracy: 0.8000 - val_loss: 0.5436\n",
      "Epoch 37/100\n",
      "\u001b[1m85/85\u001b[0m \u001b[32m━━━━━━━━━━━━━━━━━━━━\u001b[0m\u001b[37m\u001b[0m \u001b[1m7s\u001b[0m 83ms/step - accuracy: 0.8556 - loss: 0.3894 - val_accuracy: 0.8000 - val_loss: 0.5412\n",
      "Epoch 38/100\n",
      "\u001b[1m85/85\u001b[0m \u001b[32m━━━━━━━━━━━━━━━━━━━━\u001b[0m\u001b[37m\u001b[0m \u001b[1m7s\u001b[0m 85ms/step - accuracy: 0.8558 - loss: 0.3846 - val_accuracy: 0.8000 - val_loss: 0.5389\n",
      "Epoch 39/100\n",
      "\u001b[1m85/85\u001b[0m \u001b[32m━━━━━━━━━━━━━━━━━━━━\u001b[0m\u001b[37m\u001b[0m \u001b[1m7s\u001b[0m 87ms/step - accuracy: 0.8623 - loss: 0.3799 - val_accuracy: 0.8000 - val_loss: 0.5367\n",
      "Epoch 40/100\n",
      "\u001b[1m85/85\u001b[0m \u001b[32m━━━━━━━━━━━━━━━━━━━━\u001b[0m\u001b[37m\u001b[0m \u001b[1m7s\u001b[0m 85ms/step - accuracy: 0.8651 - loss: 0.3753 - val_accuracy: 0.8059 - val_loss: 0.5345\n",
      "Epoch 41/100\n",
      "\u001b[1m85/85\u001b[0m \u001b[32m━━━━━━━━━━━━━━━━━━━━\u001b[0m\u001b[37m\u001b[0m \u001b[1m7s\u001b[0m 80ms/step - accuracy: 0.8688 - loss: 0.3708 - val_accuracy: 0.8059 - val_loss: 0.5325\n",
      "Epoch 42/100\n",
      "\u001b[1m85/85\u001b[0m \u001b[32m━━━━━━━━━━━━━━━━━━━━\u001b[0m\u001b[37m\u001b[0m \u001b[1m7s\u001b[0m 80ms/step - accuracy: 0.8709 - loss: 0.3664 - val_accuracy: 0.8118 - val_loss: 0.5305\n",
      "Epoch 43/100\n",
      "\u001b[1m85/85\u001b[0m \u001b[32m━━━━━━━━━━━━━━━━━━━━\u001b[0m\u001b[37m\u001b[0m \u001b[1m7s\u001b[0m 81ms/step - accuracy: 0.8769 - loss: 0.3621 - val_accuracy: 0.8176 - val_loss: 0.5286\n",
      "Epoch 44/100\n",
      "\u001b[1m85/85\u001b[0m \u001b[32m━━━━━━━━━━━━━━━━━━━━\u001b[0m\u001b[37m\u001b[0m \u001b[1m7s\u001b[0m 81ms/step - accuracy: 0.8810 - loss: 0.3579 - val_accuracy: 0.8176 - val_loss: 0.5268\n",
      "Epoch 45/100\n",
      "\u001b[1m85/85\u001b[0m \u001b[32m━━━━━━━━━━━━━━━━━━━━\u001b[0m\u001b[37m\u001b[0m \u001b[1m7s\u001b[0m 82ms/step - accuracy: 0.8854 - loss: 0.3537 - val_accuracy: 0.8235 - val_loss: 0.5251\n",
      "Epoch 46/100\n",
      "\u001b[1m85/85\u001b[0m \u001b[32m━━━━━━━━━━━━━━━━━━━━\u001b[0m\u001b[37m\u001b[0m \u001b[1m7s\u001b[0m 83ms/step - accuracy: 0.8885 - loss: 0.3497 - val_accuracy: 0.8235 - val_loss: 0.5234\n",
      "Epoch 47/100\n",
      "\u001b[1m85/85\u001b[0m \u001b[32m━━━━━━━━━━━━━━━━━━━━\u001b[0m\u001b[37m\u001b[0m \u001b[1m7s\u001b[0m 83ms/step - accuracy: 0.8899 - loss: 0.3457 - val_accuracy: 0.8235 - val_loss: 0.5217\n",
      "Epoch 48/100\n",
      "\u001b[1m85/85\u001b[0m \u001b[32m━━━━━━━━━━━━━━━━━━━━\u001b[0m\u001b[37m\u001b[0m \u001b[1m7s\u001b[0m 82ms/step - accuracy: 0.8904 - loss: 0.3418 - val_accuracy: 0.8235 - val_loss: 0.5202\n",
      "Epoch 49/100\n",
      "\u001b[1m85/85\u001b[0m \u001b[32m━━━━━━━━━━━━━━━━━━━━\u001b[0m\u001b[37m\u001b[0m \u001b[1m7s\u001b[0m 82ms/step - accuracy: 0.8909 - loss: 0.3380 - val_accuracy: 0.8235 - val_loss: 0.5187\n",
      "Epoch 50/100\n",
      "\u001b[1m85/85\u001b[0m \u001b[32m━━━━━━━━━━━━━━━━━━━━\u001b[0m\u001b[37m\u001b[0m \u001b[1m7s\u001b[0m 81ms/step - accuracy: 0.8919 - loss: 0.3342 - val_accuracy: 0.8294 - val_loss: 0.5172\n",
      "Epoch 51/100\n",
      "\u001b[1m85/85\u001b[0m \u001b[32m━━━━━━━━━━━━━━━━━━━━\u001b[0m\u001b[37m\u001b[0m \u001b[1m7s\u001b[0m 81ms/step - accuracy: 0.8951 - loss: 0.3306 - val_accuracy: 0.8294 - val_loss: 0.5158\n",
      "Epoch 52/100\n",
      "\u001b[1m85/85\u001b[0m \u001b[32m━━━━━━━━━━━━━━━━━━━━\u001b[0m\u001b[37m\u001b[0m \u001b[1m7s\u001b[0m 82ms/step - accuracy: 0.8951 - loss: 0.3269 - val_accuracy: 0.8353 - val_loss: 0.5145\n",
      "Epoch 53/100\n",
      "\u001b[1m85/85\u001b[0m \u001b[32m━━━━━━━━━━━━━━━━━━━━\u001b[0m\u001b[37m\u001b[0m \u001b[1m7s\u001b[0m 88ms/step - accuracy: 0.8973 - loss: 0.3234 - val_accuracy: 0.8353 - val_loss: 0.5132\n",
      "Epoch 54/100\n",
      "\u001b[1m85/85\u001b[0m \u001b[32m━━━━━━━━━━━━━━━━━━━━\u001b[0m\u001b[37m\u001b[0m \u001b[1m7s\u001b[0m 81ms/step - accuracy: 0.8997 - loss: 0.3199 - val_accuracy: 0.8353 - val_loss: 0.5119\n",
      "Epoch 55/100\n",
      "\u001b[1m85/85\u001b[0m \u001b[32m━━━━━━━━━━━━━━━━━━━━\u001b[0m\u001b[37m\u001b[0m \u001b[1m7s\u001b[0m 81ms/step - accuracy: 0.9000 - loss: 0.3164 - val_accuracy: 0.8353 - val_loss: 0.5107\n",
      "Epoch 56/100\n",
      "\u001b[1m85/85\u001b[0m \u001b[32m━━━━━━━━━━━━━━━━━━━━\u001b[0m\u001b[37m\u001b[0m \u001b[1m7s\u001b[0m 80ms/step - accuracy: 0.9014 - loss: 0.3130 - val_accuracy: 0.8353 - val_loss: 0.5096\n",
      "Epoch 57/100\n",
      "\u001b[1m85/85\u001b[0m \u001b[32m━━━━━━━━━━━━━━━━━━━━\u001b[0m\u001b[37m\u001b[0m \u001b[1m7s\u001b[0m 86ms/step - accuracy: 0.9014 - loss: 0.3097 - val_accuracy: 0.8412 - val_loss: 0.5085\n",
      "Epoch 58/100\n",
      "\u001b[1m85/85\u001b[0m \u001b[32m━━━━━━━━━━━━━━━━━━━━\u001b[0m\u001b[37m\u001b[0m \u001b[1m7s\u001b[0m 78ms/step - accuracy: 0.9041 - loss: 0.3064 - val_accuracy: 0.8471 - val_loss: 0.5074\n",
      "Epoch 59/100\n",
      "\u001b[1m85/85\u001b[0m \u001b[32m━━━━━━━━━━━━━━━━━━━━\u001b[0m\u001b[37m\u001b[0m \u001b[1m7s\u001b[0m 79ms/step - accuracy: 0.9033 - loss: 0.3032 - val_accuracy: 0.8471 - val_loss: 0.5064\n",
      "Epoch 60/100\n",
      "\u001b[1m85/85\u001b[0m \u001b[32m━━━━━━━━━━━━━━━━━━━━\u001b[0m\u001b[37m\u001b[0m \u001b[1m7s\u001b[0m 79ms/step - accuracy: 0.9059 - loss: 0.3000 - val_accuracy: 0.8471 - val_loss: 0.5054\n",
      "Epoch 61/100\n",
      "\u001b[1m85/85\u001b[0m \u001b[32m━━━━━━━━━━━━━━━━━━━━\u001b[0m\u001b[37m\u001b[0m \u001b[1m7s\u001b[0m 80ms/step - accuracy: 0.9074 - loss: 0.2968 - val_accuracy: 0.8529 - val_loss: 0.5045\n",
      "Epoch 62/100\n",
      "\u001b[1m85/85\u001b[0m \u001b[32m━━━━━━━━━━━━━━━━━━━━\u001b[0m\u001b[37m\u001b[0m \u001b[1m7s\u001b[0m 87ms/step - accuracy: 0.9107 - loss: 0.2937 - val_accuracy: 0.8529 - val_loss: 0.5036\n",
      "Epoch 63/100\n",
      "\u001b[1m85/85\u001b[0m \u001b[32m━━━━━━━━━━━━━━━━━━━━\u001b[0m\u001b[37m\u001b[0m \u001b[1m7s\u001b[0m 82ms/step - accuracy: 0.9145 - loss: 0.2907 - val_accuracy: 0.8529 - val_loss: 0.5028\n",
      "Epoch 64/100\n",
      "\u001b[1m85/85\u001b[0m \u001b[32m━━━━━━━━━━━━━━━━━━━━\u001b[0m\u001b[37m\u001b[0m \u001b[1m7s\u001b[0m 81ms/step - accuracy: 0.9145 - loss: 0.2877 - val_accuracy: 0.8529 - val_loss: 0.5020\n",
      "Epoch 65/100\n",
      "\u001b[1m85/85\u001b[0m \u001b[32m━━━━━━━━━━━━━━━━━━━━\u001b[0m\u001b[37m\u001b[0m \u001b[1m7s\u001b[0m 82ms/step - accuracy: 0.9146 - loss: 0.2847 - val_accuracy: 0.8529 - val_loss: 0.5012\n",
      "Epoch 66/100\n",
      "\u001b[1m85/85\u001b[0m \u001b[32m━━━━━━━━━━━━━━━━━━━━\u001b[0m\u001b[37m\u001b[0m \u001b[1m7s\u001b[0m 82ms/step - accuracy: 0.9175 - loss: 0.2818 - val_accuracy: 0.8529 - val_loss: 0.5004\n",
      "Epoch 67/100\n",
      "\u001b[1m85/85\u001b[0m \u001b[32m━━━━━━━━━━━━━━━━━━━━\u001b[0m\u001b[37m\u001b[0m \u001b[1m7s\u001b[0m 82ms/step - accuracy: 0.9181 - loss: 0.2789 - val_accuracy: 0.8529 - val_loss: 0.4997\n",
      "Epoch 68/100\n",
      "\u001b[1m85/85\u001b[0m \u001b[32m━━━━━━━━━━━━━━━━━━━━\u001b[0m\u001b[37m\u001b[0m \u001b[1m7s\u001b[0m 80ms/step - accuracy: 0.9190 - loss: 0.2761 - val_accuracy: 0.8529 - val_loss: 0.4991\n",
      "Epoch 69/100\n",
      "\u001b[1m85/85\u001b[0m \u001b[32m━━━━━━━━━━━━━━━━━━━━\u001b[0m\u001b[37m\u001b[0m \u001b[1m7s\u001b[0m 81ms/step - accuracy: 0.9192 - loss: 0.2733 - val_accuracy: 0.8529 - val_loss: 0.4984\n",
      "Epoch 70/100\n",
      "\u001b[1m85/85\u001b[0m \u001b[32m━━━━━━━━━━━━━━━━━━━━\u001b[0m\u001b[37m\u001b[0m \u001b[1m7s\u001b[0m 81ms/step - accuracy: 0.9193 - loss: 0.2706 - val_accuracy: 0.8529 - val_loss: 0.4979\n",
      "Epoch 71/100\n",
      "\u001b[1m85/85\u001b[0m \u001b[32m━━━━━━━━━━━━━━━━━━━━\u001b[0m\u001b[37m\u001b[0m \u001b[1m7s\u001b[0m 80ms/step - accuracy: 0.9217 - loss: 0.2678 - val_accuracy: 0.8529 - val_loss: 0.4973\n",
      "Epoch 72/100\n",
      "\u001b[1m85/85\u001b[0m \u001b[32m━━━━━━━━━━━━━━━━━━━━\u001b[0m\u001b[37m\u001b[0m \u001b[1m7s\u001b[0m 80ms/step - accuracy: 0.9258 - loss: 0.2652 - val_accuracy: 0.8529 - val_loss: 0.4968\n",
      "Epoch 73/100\n",
      "\u001b[1m85/85\u001b[0m \u001b[32m━━━━━━━━━━━━━━━━━━━━\u001b[0m\u001b[37m\u001b[0m \u001b[1m7s\u001b[0m 80ms/step - accuracy: 0.9290 - loss: 0.2625 - val_accuracy: 0.8529 - val_loss: 0.4963\n",
      "Epoch 74/100\n",
      "\u001b[1m85/85\u001b[0m \u001b[32m━━━━━━━━━━━━━━━━━━━━\u001b[0m\u001b[37m\u001b[0m \u001b[1m7s\u001b[0m 82ms/step - accuracy: 0.9336 - loss: 0.2599 - val_accuracy: 0.8529 - val_loss: 0.4958\n",
      "Epoch 75/100\n",
      "\u001b[1m85/85\u001b[0m \u001b[32m━━━━━━━━━━━━━━━━━━━━\u001b[0m\u001b[37m\u001b[0m \u001b[1m7s\u001b[0m 79ms/step - accuracy: 0.9342 - loss: 0.2574 - val_accuracy: 0.8529 - val_loss: 0.4954\n",
      "Epoch 76/100\n",
      "\u001b[1m85/85\u001b[0m \u001b[32m━━━━━━━━━━━━━━━━━━━━\u001b[0m\u001b[37m\u001b[0m \u001b[1m7s\u001b[0m 80ms/step - accuracy: 0.9372 - loss: 0.2548 - val_accuracy: 0.8529 - val_loss: 0.4950\n",
      "Epoch 77/100\n",
      "\u001b[1m85/85\u001b[0m \u001b[32m━━━━━━━━━━━━━━━━━━━━\u001b[0m\u001b[37m\u001b[0m \u001b[1m7s\u001b[0m 81ms/step - accuracy: 0.9379 - loss: 0.2523 - val_accuracy: 0.8529 - val_loss: 0.4946\n",
      "Epoch 78/100\n",
      "\u001b[1m85/85\u001b[0m \u001b[32m━━━━━━━━━━━━━━━━━━━━\u001b[0m\u001b[37m\u001b[0m \u001b[1m7s\u001b[0m 87ms/step - accuracy: 0.9394 - loss: 0.2499 - val_accuracy: 0.8471 - val_loss: 0.4943\n",
      "Epoch 79/100\n",
      "\u001b[1m85/85\u001b[0m \u001b[32m━━━━━━━━━━━━━━━━━━━━\u001b[0m\u001b[37m\u001b[0m \u001b[1m7s\u001b[0m 81ms/step - accuracy: 0.9397 - loss: 0.2474 - val_accuracy: 0.8529 - val_loss: 0.4940\n",
      "Epoch 80/100\n",
      "\u001b[1m85/85\u001b[0m \u001b[32m━━━━━━━━━━━━━━━━━━━━\u001b[0m\u001b[37m\u001b[0m \u001b[1m7s\u001b[0m 83ms/step - accuracy: 0.9402 - loss: 0.2450 - val_accuracy: 0.8588 - val_loss: 0.4937\n",
      "Epoch 81/100\n",
      "\u001b[1m85/85\u001b[0m \u001b[32m━━━━━━━━━━━━━━━━━━━━\u001b[0m\u001b[37m\u001b[0m \u001b[1m7s\u001b[0m 84ms/step - accuracy: 0.9402 - loss: 0.2427 - val_accuracy: 0.8588 - val_loss: 0.4935\n",
      "Epoch 82/100\n",
      "\u001b[1m85/85\u001b[0m \u001b[32m━━━━━━━━━━━━━━━━━━━━\u001b[0m\u001b[37m\u001b[0m \u001b[1m7s\u001b[0m 83ms/step - accuracy: 0.9402 - loss: 0.2404 - val_accuracy: 0.8647 - val_loss: 0.4933\n",
      "Epoch 83/100\n",
      "\u001b[1m85/85\u001b[0m \u001b[32m━━━━━━━━━━━━━━━━━━━━\u001b[0m\u001b[37m\u001b[0m \u001b[1m7s\u001b[0m 83ms/step - accuracy: 0.9409 - loss: 0.2381 - val_accuracy: 0.8647 - val_loss: 0.4931\n",
      "Epoch 84/100\n",
      "\u001b[1m85/85\u001b[0m \u001b[32m━━━━━━━━━━━━━━━━━━━━\u001b[0m\u001b[37m\u001b[0m \u001b[1m7s\u001b[0m 84ms/step - accuracy: 0.9437 - loss: 0.2358 - val_accuracy: 0.8706 - val_loss: 0.4929\n",
      "Epoch 85/100\n",
      "\u001b[1m85/85\u001b[0m \u001b[32m━━━━━━━━━━━━━━━━━━━━\u001b[0m\u001b[37m\u001b[0m \u001b[1m7s\u001b[0m 85ms/step - accuracy: 0.9437 - loss: 0.2336 - val_accuracy: 0.8706 - val_loss: 0.4928\n",
      "Epoch 86/100\n",
      "\u001b[1m85/85\u001b[0m \u001b[32m━━━━━━━━━━━━━━━━━━━━\u001b[0m\u001b[37m\u001b[0m \u001b[1m7s\u001b[0m 86ms/step - accuracy: 0.9438 - loss: 0.2314 - val_accuracy: 0.8706 - val_loss: 0.4927\n",
      "Epoch 87/100\n",
      "\u001b[1m85/85\u001b[0m \u001b[32m━━━━━━━━━━━━━━━━━━━━\u001b[0m\u001b[37m\u001b[0m \u001b[1m7s\u001b[0m 85ms/step - accuracy: 0.9459 - loss: 0.2292 - val_accuracy: 0.8706 - val_loss: 0.4927\n",
      "Epoch 88/100\n",
      "\u001b[1m85/85\u001b[0m \u001b[32m━━━━━━━━━━━━━━━━━━━━\u001b[0m\u001b[37m\u001b[0m \u001b[1m7s\u001b[0m 85ms/step - accuracy: 0.9464 - loss: 0.2271 - val_accuracy: 0.8706 - val_loss: 0.4926\n",
      "Epoch 89/100\n",
      "\u001b[1m85/85\u001b[0m \u001b[32m━━━━━━━━━━━━━━━━━━━━\u001b[0m\u001b[37m\u001b[0m \u001b[1m7s\u001b[0m 86ms/step - accuracy: 0.9472 - loss: 0.2249 - val_accuracy: 0.8706 - val_loss: 0.4926\n",
      "Epoch 90/100\n",
      "\u001b[1m85/85\u001b[0m \u001b[32m━━━━━━━━━━━━━━━━━━━━\u001b[0m\u001b[37m\u001b[0m \u001b[1m7s\u001b[0m 85ms/step - accuracy: 0.9480 - loss: 0.2229 - val_accuracy: 0.8706 - val_loss: 0.4927\n",
      "Epoch 91/100\n",
      "\u001b[1m85/85\u001b[0m \u001b[32m━━━━━━━━━━━━━━━━━━━━\u001b[0m\u001b[37m\u001b[0m \u001b[1m7s\u001b[0m 84ms/step - accuracy: 0.9480 - loss: 0.2208 - val_accuracy: 0.8706 - val_loss: 0.4927\n",
      "Epoch 92/100\n",
      "\u001b[1m85/85\u001b[0m \u001b[32m━━━━━━━━━━━━━━━━━━━━\u001b[0m\u001b[37m\u001b[0m \u001b[1m7s\u001b[0m 83ms/step - accuracy: 0.9480 - loss: 0.2188 - val_accuracy: 0.8706 - val_loss: 0.4928\n",
      "Epoch 93/100\n",
      "\u001b[1m85/85\u001b[0m \u001b[32m━━━━━━━━━━━━━━━━━━━━\u001b[0m\u001b[37m\u001b[0m \u001b[1m8s\u001b[0m 90ms/step - accuracy: 0.9492 - loss: 0.2168 - val_accuracy: 0.8706 - val_loss: 0.4929\n",
      "Epoch 94/100\n",
      "\u001b[1m85/85\u001b[0m \u001b[32m━━━━━━━━━━━━━━━━━━━━\u001b[0m\u001b[37m\u001b[0m \u001b[1m7s\u001b[0m 88ms/step - accuracy: 0.9506 - loss: 0.2148 - val_accuracy: 0.8706 - val_loss: 0.4931\n",
      "Epoch 95/100\n",
      "\u001b[1m85/85\u001b[0m \u001b[32m━━━━━━━━━━━━━━━━━━━━\u001b[0m\u001b[37m\u001b[0m \u001b[1m7s\u001b[0m 82ms/step - accuracy: 0.9524 - loss: 0.2129 - val_accuracy: 0.8706 - val_loss: 0.4933\n",
      "Epoch 96/100\n",
      "\u001b[1m85/85\u001b[0m \u001b[32m━━━━━━━━━━━━━━━━━━━━\u001b[0m\u001b[37m\u001b[0m \u001b[1m8s\u001b[0m 89ms/step - accuracy: 0.9543 - loss: 0.2109 - val_accuracy: 0.8706 - val_loss: 0.4935\n",
      "Epoch 97/100\n",
      "\u001b[1m85/85\u001b[0m \u001b[32m━━━━━━━━━━━━━━━━━━━━\u001b[0m\u001b[37m\u001b[0m \u001b[1m7s\u001b[0m 80ms/step - accuracy: 0.9543 - loss: 0.2090 - val_accuracy: 0.8706 - val_loss: 0.4937\n",
      "Epoch 98/100\n",
      "\u001b[1m85/85\u001b[0m \u001b[32m━━━━━━━━━━━━━━━━━━━━\u001b[0m\u001b[37m\u001b[0m \u001b[1m7s\u001b[0m 82ms/step - accuracy: 0.9553 - loss: 0.2072 - val_accuracy: 0.8647 - val_loss: 0.4940\n",
      "Epoch 99/100\n",
      "\u001b[1m85/85\u001b[0m \u001b[32m━━━━━━━━━━━━━━━━━━━━\u001b[0m\u001b[37m\u001b[0m \u001b[1m7s\u001b[0m 83ms/step - accuracy: 0.9553 - loss: 0.2053 - val_accuracy: 0.8647 - val_loss: 0.4943\n",
      "Epoch 100/100\n",
      "\u001b[1m85/85\u001b[0m \u001b[32m━━━━━━━━━━━━━━━━━━━━\u001b[0m\u001b[37m\u001b[0m \u001b[1m7s\u001b[0m 83ms/step - accuracy: 0.9576 - loss: 0.2035 - val_accuracy: 0.8647 - val_loss: 0.4946\n",
      "Training time: 714.86 seconds\n"
     ]
    }
   ],
   "source": [
    "# Measure training time\n",
    "start_time = time.time()\n",
    "# Train the model\n",
    "history = model.fit(ds_train,\n",
    "          validation_data=ds_val,\n",
    "          epochs=100)\n",
    "# Measure and print runtime\n",
    "print(f\"Training time: {time.time() - start_time:.2f} seconds\")"
   ]
  },
  {
   "cell_type": "code",
   "execution_count": 8,
   "id": "ZMphieQyl681",
   "metadata": {
    "colab": {
     "base_uri": "https://localhost:8080/"
    },
    "executionInfo": {
     "elapsed": 10616,
     "status": "ok",
     "timestamp": 1731379097328,
     "user": {
      "displayName": "be han",
      "userId": "11093965106474063064"
     },
     "user_tz": 480
    },
    "id": "ZMphieQyl681",
    "outputId": "c9a3b737-6302-4fdc-f2a3-643ad01ad953"
   },
   "outputs": [
    {
     "name": "stdout",
     "output_type": "stream",
     "text": [
      "\u001b[1m11/11\u001b[0m \u001b[32m━━━━━━━━━━━━━━━━━━━━\u001b[0m\u001b[37m\u001b[0m \u001b[1m1s\u001b[0m 76ms/step - accuracy: 0.9173 - loss: 0.2858\n",
      "Test Loss: 0.30072200298309326, Test Accuracy: 0.8941176533699036\n"
     ]
    }
   ],
   "source": [
    "# Evaluate the model\n",
    "results = model.evaluate(ds_test)\n",
    "print(f\"Test Loss: {results[0]}, Test Accuracy: {results[1]}\")"
   ]
  },
  {
   "cell_type": "code",
   "execution_count": 17,
   "id": "Hbsgt6iyq0AC",
   "metadata": {
    "colab": {
     "base_uri": "https://localhost:8080/"
    },
    "executionInfo": {
     "elapsed": 20806,
     "status": "ok",
     "timestamp": 1731379191495,
     "user": {
      "displayName": "be han",
      "userId": "11093965106474063064"
     },
     "user_tz": 480
    },
    "id": "Hbsgt6iyq0AC",
    "outputId": "ac2dc5c5-6dd0-45de-e5c1-2799c326e49d"
   },
   "outputs": [
    {
     "name": "stdout",
     "output_type": "stream",
     "text": [
      "\u001b[1m1/1\u001b[0m \u001b[32m━━━━━━━━━━━━━━━━━━━━\u001b[0m\u001b[37m\u001b[0m \u001b[1m1s\u001b[0m 548ms/step\n",
      "\u001b[1m1/1\u001b[0m \u001b[32m━━━━━━━━━━━━━━━━━━━━\u001b[0m\u001b[37m\u001b[0m \u001b[1m0s\u001b[0m 193ms/step\n",
      "\u001b[1m1/1\u001b[0m \u001b[32m━━━━━━━━━━━━━━━━━━━━\u001b[0m\u001b[37m\u001b[0m \u001b[1m0s\u001b[0m 204ms/step\n",
      "\u001b[1m1/1\u001b[0m \u001b[32m━━━━━━━━━━━━━━━━━━━━\u001b[0m\u001b[37m\u001b[0m \u001b[1m0s\u001b[0m 185ms/step\n",
      "\u001b[1m1/1\u001b[0m \u001b[32m━━━━━━━━━━━━━━━━━━━━\u001b[0m\u001b[37m\u001b[0m \u001b[1m0s\u001b[0m 201ms/step\n",
      "\u001b[1m1/1\u001b[0m \u001b[32m━━━━━━━━━━━━━━━━━━━━\u001b[0m\u001b[37m\u001b[0m \u001b[1m0s\u001b[0m 221ms/step\n",
      "\u001b[1m1/1\u001b[0m \u001b[32m━━━━━━━━━━━━━━━━━━━━\u001b[0m\u001b[37m\u001b[0m \u001b[1m0s\u001b[0m 184ms/step\n",
      "\u001b[1m1/1\u001b[0m \u001b[32m━━━━━━━━━━━━━━━━━━━━\u001b[0m\u001b[37m\u001b[0m \u001b[1m0s\u001b[0m 210ms/step\n",
      "\u001b[1m1/1\u001b[0m \u001b[32m━━━━━━━━━━━━━━━━━━━━\u001b[0m\u001b[37m\u001b[0m \u001b[1m0s\u001b[0m 186ms/step\n",
      "\u001b[1m1/1\u001b[0m \u001b[32m━━━━━━━━━━━━━━━━━━━━\u001b[0m\u001b[37m\u001b[0m \u001b[1m0s\u001b[0m 161ms/step\n",
      "\u001b[1m1/1\u001b[0m \u001b[32m━━━━━━━━━━━━━━━━━━━━\u001b[0m\u001b[37m\u001b[0m \u001b[1m0s\u001b[0m 206ms/step\n"
     ]
    }
   ],
   "source": [
    "# Initialize lists for true labels and predictions\n",
    "y_true = []\n",
    "y_pred = []\n",
    "# Generate predictions for additional metrics\n",
    "for images, labels in ds_test:\n",
    "    preds = model.predict(images)\n",
    "    y_true.extend(labels.numpy())\n",
    "    y_pred.extend(np.argmax(preds, axis=1))"
   ]
  },
  {
   "cell_type": "code",
   "execution_count": 18,
   "id": "66555a7e-eda0-4110-8b73-5fbfdd5556c7",
   "metadata": {},
   "outputs": [
    {
     "name": "stdout",
     "output_type": "stream",
     "text": [
      "\u001b[1m11/11\u001b[0m \u001b[32m━━━━━━━━━━━━━━━━━━━━\u001b[0m\u001b[37m\u001b[0m \u001b[1m9s\u001b[0m 483ms/step\n"
     ]
    },
    {
     "name": "stderr",
     "output_type": "stream",
     "text": [
      "C:\\Users\\b25ch\\anaconda3\\envs\\dev\\lib\\contextlib.py:153: UserWarning: Your input ran out of data; interrupting training. Make sure that your dataset or generator can generate at least `steps_per_epoch * epochs` batches. You may need to use the `.repeat()` function when building your dataset.\n",
      "  self.gen.throw(typ, value, traceback)\n"
     ]
    }
   ],
   "source": [
    "from sklearn.preprocessing import label_binarize\n",
    "# Convert lists to NumPy arrays for metric calculations\n",
    "y_true_np = np.array(y_true)\n",
    "y_pred_np = np.array(y_pred)\n",
    "y_true_bin = label_binarize(y_true, classes=[0, 1, 2])\n",
    "y_prob = model.predict(ds_test)"
   ]
  },
  {
   "cell_type": "code",
   "execution_count": 21,
   "id": "d7621250-e249-4ade-8951-6c5e5ae3c9a7",
   "metadata": {},
   "outputs": [],
   "source": [
    "np.save(f'outputs/y_true_np-{modelname}.npy',y_true_np)\n",
    "np.save(f'outputs/y_pred_np-{modelname}.npy',y_pred_np)\n",
    "np.save(f'outputs/y_true_bin-{modelname}.npy',y_true_bin)\n",
    "np.save(f'outputs/y_prob-{modelname}.npy',y_prob)"
   ]
  },
  {
   "cell_type": "code",
   "execution_count": 24,
   "id": "OwtHxAiba9sh",
   "metadata": {
    "colab": {
     "base_uri": "https://localhost:8080/"
    },
    "executionInfo": {
     "elapsed": 285,
     "status": "ok",
     "timestamp": 1731379202677,
     "user": {
      "displayName": "be han",
      "userId": "11093965106474063064"
     },
     "user_tz": 480
    },
    "id": "OwtHxAiba9sh",
    "outputId": "596a5262-103b-465b-dbc0-934258a35bc2"
   },
   "outputs": [
    {
     "name": "stdout",
     "output_type": "stream",
     "text": [
      "    0  1   2\n",
      "0  78  0   6\n",
      "1   1  7   1\n",
      "2  10  0  67\n",
      "   test_loss  test_accurancy  precision    recall        f1   roc_auc  \\\n",
      "0   0.300722        0.894118   0.925926  0.872093  0.898204  0.895551   \n",
      "\n",
      "      kappa  \n",
      "0  0.804635  \n"
     ]
    }
   ],
   "source": [
    "from sklearn.metrics import classification_report, roc_auc_score, cohen_kappa_score, confusion_matrix\n",
    "# Calculate confusion matrix\n",
    "conf_matrix = confusion_matrix(y_true_np, y_pred_np)\n",
    "df_matrix = pd.DataFrame(conf_matrix)\n",
    "print(df_matrix)\n",
    "# Calculate additional metrics\n",
    "precision = tf.keras.metrics.Precision()(y_true, y_pred).numpy()\n",
    "recall = tf.keras.metrics.Recall()(y_true, y_pred).numpy()\n",
    "f1 = 2 * (precision * recall) / (precision + recall)\n",
    "roc_auc = roc_auc_score(y_true, tf.keras.utils.to_categorical(y_pred, 3), multi_class='ovr')\n",
    "df_metrics = pd.DataFrame({'test_loss': [results[0]],\n",
    "                           'test_accurancy': [results[1]],\n",
    "                           'precision': [precision],\n",
    "                           'recall': [recall],\n",
    "                           'f1': [2*(precision*recall) / (precision+recall)],\n",
    "                           'roc_auc': [roc_auc],\n",
    "                           'kappa': [cohen_kappa_score(y_true, y_pred)] })\n",
    "print(df_metrics)"
   ]
  },
  {
   "cell_type": "code",
   "execution_count": null,
   "id": "xIfDo6kma9zD",
   "metadata": {
    "colab": {
     "base_uri": "https://localhost:8080/",
     "height": 332
    },
    "executionInfo": {
     "elapsed": 456,
     "status": "error",
     "timestamp": 1731379302521,
     "user": {
      "displayName": "be han",
      "userId": "11093965106474063064"
     },
     "user_tz": 480
    },
    "id": "xIfDo6kma9zD",
    "outputId": "aaa57846-7660-4e59-9179-a0555d34fa8e"
   },
   "outputs": [],
   "source": [
    "import matplotlib.pyplot as plt\n",
    "# Extracting accuracy and loss values\n",
    "df_history = pd.DataFrame(history.history)\n",
    "accuracy = df_history['accuracy']\n",
    "val_accuracy = df_history['val_accuracy']"
   ]
  },
  {
   "cell_type": "code",
   "execution_count": 13,
   "id": "9d427afd-9b68-462f-8a48-4ab12dddc6e7",
   "metadata": {},
   "outputs": [
    {
     "data": {
      "text/html": [
       "<div>\n",
       "<style scoped>\n",
       "    .dataframe tbody tr th:only-of-type {\n",
       "        vertical-align: middle;\n",
       "    }\n",
       "\n",
       "    .dataframe tbody tr th {\n",
       "        vertical-align: top;\n",
       "    }\n",
       "\n",
       "    .dataframe thead th {\n",
       "        text-align: right;\n",
       "    }\n",
       "</style>\n",
       "<table border=\"1\" class=\"dataframe\">\n",
       "  <thead>\n",
       "    <tr style=\"text-align: right;\">\n",
       "      <th></th>\n",
       "      <th>precision</th>\n",
       "      <th>recall</th>\n",
       "      <th>f1-score</th>\n",
       "      <th>support</th>\n",
       "    </tr>\n",
       "  </thead>\n",
       "  <tbody>\n",
       "    <tr>\n",
       "      <th>0</th>\n",
       "      <td>0.876404</td>\n",
       "      <td>0.928571</td>\n",
       "      <td>0.901734</td>\n",
       "      <td>84.000000</td>\n",
       "    </tr>\n",
       "    <tr>\n",
       "      <th>1</th>\n",
       "      <td>1.000000</td>\n",
       "      <td>0.777778</td>\n",
       "      <td>0.875000</td>\n",
       "      <td>9.000000</td>\n",
       "    </tr>\n",
       "    <tr>\n",
       "      <th>2</th>\n",
       "      <td>0.905405</td>\n",
       "      <td>0.870130</td>\n",
       "      <td>0.887417</td>\n",
       "      <td>77.000000</td>\n",
       "    </tr>\n",
       "    <tr>\n",
       "      <th>accuracy</th>\n",
       "      <td>0.894118</td>\n",
       "      <td>0.894118</td>\n",
       "      <td>0.894118</td>\n",
       "      <td>0.894118</td>\n",
       "    </tr>\n",
       "    <tr>\n",
       "      <th>macro avg</th>\n",
       "      <td>0.927270</td>\n",
       "      <td>0.858826</td>\n",
       "      <td>0.888050</td>\n",
       "      <td>170.000000</td>\n",
       "    </tr>\n",
       "    <tr>\n",
       "      <th>weighted avg</th>\n",
       "      <td>0.896083</td>\n",
       "      <td>0.894118</td>\n",
       "      <td>0.893834</td>\n",
       "      <td>170.000000</td>\n",
       "    </tr>\n",
       "  </tbody>\n",
       "</table>\n",
       "</div>"
      ],
      "text/plain": [
       "              precision    recall  f1-score     support\n",
       "0              0.876404  0.928571  0.901734   84.000000\n",
       "1              1.000000  0.777778  0.875000    9.000000\n",
       "2              0.905405  0.870130  0.887417   77.000000\n",
       "accuracy       0.894118  0.894118  0.894118    0.894118\n",
       "macro avg      0.927270  0.858826  0.888050  170.000000\n",
       "weighted avg   0.896083  0.894118  0.893834  170.000000"
      ]
     },
     "execution_count": 13,
     "metadata": {},
     "output_type": "execute_result"
    }
   ],
   "source": [
    "# Generate the classification report\n",
    "report = classification_report(y_true, y_pred, output_dict=True)\n",
    "# Convert the report to a DataFrame\n",
    "df_report = pd.DataFrame(report).transpose()\n",
    "# Save the DataFrame to a CSV file\n",
    "df_report"
   ]
  },
  {
   "cell_type": "code",
   "execution_count": 25,
   "id": "vrnuX7f73BB_",
   "metadata": {
    "executionInfo": {
     "elapsed": 291,
     "status": "ok",
     "timestamp": 1731379229151,
     "user": {
      "displayName": "be han",
      "userId": "11093965106474063064"
     },
     "user_tz": 480
    },
    "id": "vrnuX7f73BB_"
   },
   "outputs": [],
   "source": [
    "df_matrix.to_csv(f'outputs/matrix-{modelname}.csv')\n",
    "df_report.to_csv(f'outputs/report-{modelname}.csv')\n",
    "df_metrics.to_csv(f'outputs/metrics-{modelname}.csv')\n",
    "df_history.to_csv(f'outputs/history-{modelname}.csv')"
   ]
  },
  {
   "cell_type": "code",
   "execution_count": 23,
   "id": "5047a33d-c844-4c2d-940e-0e3b478990bb",
   "metadata": {},
   "outputs": [
    {
     "name": "stderr",
     "output_type": "stream",
     "text": [
      "WARNING:absl:You are saving your model as an HDF5 file via `model.save()` or `keras.saving.save_model(model)`. This file format is considered legacy. We recommend using instead the native Keras format, e.g. `model.save('my_model.keras')` or `keras.saving.save_model(model, 'my_model.keras')`. \n"
     ]
    }
   ],
   "source": [
    "# Export our model to HDF5 file\n",
    "model.save(f\"models/{modelname}.h5\")"
   ]
  },
  {
   "cell_type": "code",
   "execution_count": null,
   "id": "5b7b534b-684d-4041-b9fc-eddf7f1d2d23",
   "metadata": {},
   "outputs": [],
   "source": []
  }
 ],
 "metadata": {
  "colab": {
   "provenance": []
  },
  "kernelspec": {
   "display_name": "Python 3 (ipykernel)",
   "language": "python",
   "name": "python3"
  },
  "language_info": {
   "codemirror_mode": {
    "name": "ipython",
    "version": 3
   },
   "file_extension": ".py",
   "mimetype": "text/x-python",
   "name": "python",
   "nbconvert_exporter": "python",
   "pygments_lexer": "ipython3",
   "version": "3.10.14"
  }
 },
 "nbformat": 4,
 "nbformat_minor": 5
}
