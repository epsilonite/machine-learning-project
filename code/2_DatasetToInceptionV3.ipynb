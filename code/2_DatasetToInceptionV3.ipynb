{
 "cells": [
  {
   "cell_type": "code",
   "execution_count": 1,
   "id": "KThtWptSMABJ",
   "metadata": {
    "id": "KThtWptSMABJ"
   },
   "outputs": [],
   "source": [
    "import tensorflow as tf\n",
    "import numpy as np\n",
    "import pandas as pd\n",
    "import time\n",
    "from sklearn.model_selection import train_test_split\n",
    "from sklearn.metrics import classification_report, roc_auc_score, cohen_kappa_score, confusion_matrix"
   ]
  },
  {
   "cell_type": "code",
   "execution_count": 2,
   "id": "e9cbca42-1b58-4a78-b6a6-9b8f4d6452df",
   "metadata": {
    "id": "e9cbca42-1b58-4a78-b6a6-9b8f4d6452df"
   },
   "outputs": [],
   "source": [
    "dir = 'data/'\n",
    "modelname='inceptionv3'"
   ]
  },
  {
   "cell_type": "code",
   "execution_count": 3,
   "id": "54aa3306-1122-4a48-beb1-dadcbdd70fc6",
   "metadata": {
    "id": "54aa3306-1122-4a48-beb1-dadcbdd70fc6"
   },
   "outputs": [],
   "source": [
    "def load_tfrecord_dataset(file_path):\n",
    "    # Define a function to parse the TFRecord file\n",
    "    feature_description = {\n",
    "        'image': tf.io.FixedLenFeature([224 * 224 * 1], tf.float32),\n",
    "        'label': tf.io.FixedLenFeature([], tf.int64)\n",
    "    }\n",
    "\n",
    "    def _parse_function(example_proto):\n",
    "        # Parse the input tf.train.Example proto using the feature description\n",
    "        parsed_features = tf.io.parse_single_example(example_proto, feature_description)\n",
    "        image = tf.reshape(parsed_features['image'], [224, 224, 1])\n",
    "        label = parsed_features['label']\n",
    "        return image, label\n",
    "\n",
    "    # Load and parse the dataset\n",
    "    raw_dataset = tf.data.TFRecordDataset(file_path)\n",
    "    parsed_dataset = raw_dataset.map(_parse_function, num_parallel_calls=tf.data.AUTOTUNE)\n",
    "    return parsed_dataset\n",
    "\n",
    "# Load the datasets from TFRecord files\n",
    "ds_train = load_tfrecord_dataset(f'{dir}ds_train.tfrecord')\n",
    "ds_val = load_tfrecord_dataset(f'{dir}ds_val.tfrecord')\n",
    "ds_test = load_tfrecord_dataset(f'{dir}ds_test.tfrecord')"
   ]
  },
  {
   "cell_type": "code",
   "execution_count": 5,
   "id": "y7k_iaodN9RJ",
   "metadata": {
    "id": "y7k_iaodN9RJ"
   },
   "outputs": [],
   "source": [
    "# Preprocess the datasets\n",
    "def preprocess_dataset(dataset):\n",
    "    # Apply preprocessing using a lambda function to convert grayscale to RGB and preprocess\n",
    "    def refactor(image,label):\n",
    "        # Convert grayscale images to RGB\n",
    "        image = tf.image.grayscale_to_rgb(image)\n",
    "        # Apply preprocessing\n",
    "        image = tf.keras.applications.inception_v3.preprocess_input(image)\n",
    "        return image, label\n",
    "    dataset = dataset.map(refactor, num_parallel_calls=tf.data.AUTOTUNE)\n",
    "    return dataset\n",
    "# Apply preprocess to datasets\n",
    "ds_train = preprocess_dataset(ds_train)\n",
    "ds_val = preprocess_dataset(ds_val)\n",
    "ds_test = preprocess_dataset(ds_test)"
   ]
  },
  {
   "cell_type": "code",
   "execution_count": 6,
   "id": "nLxG9yQIlnrY",
   "metadata": {
    "id": "nLxG9yQIlnrY"
   },
   "outputs": [],
   "source": [
    "# Batch the datasets for training and evaluation\n",
    "batch_size = 16\n",
    "ds_train = ds_train.batch(batch_size).prefetch(buffer_size=tf.data.AUTOTUNE)\n",
    "ds_val = ds_val.batch(batch_size).prefetch(buffer_size=tf.data.AUTOTUNE)\n",
    "ds_test = ds_test.batch(batch_size).prefetch(buffer_size=tf.data.AUTOTUNE)"
   ]
  },
  {
   "cell_type": "code",
   "execution_count": 10,
   "id": "b02403d0-3248-4912-b14e-e9b5a73d697e",
   "metadata": {
    "colab": {
     "base_uri": "https://localhost:8080/",
     "height": 211
    },
    "id": "b02403d0-3248-4912-b14e-e9b5a73d697e",
    "outputId": "c53bf2a5-094c-4f83-a645-aabded66b277"
   },
   "outputs": [],
   "source": [
    "# Build base_model\n",
    "base_model = tf.keras.applications.InceptionV3(input_shape=(224, 224, 3), include_top=False, weights='imagenet')\n",
    "base_model.trainable = False\n",
    "# Build the model\n",
    "model = tf.keras.Sequential()\n",
    "model.add(base_model)\n",
    "model.add(tf.keras.layers.GlobalAveragePooling2D())\n",
    "model.add(tf.keras.layers.Dense(3, activation='softmax')) # Multi-class classification for labels [0, 1, 2]\n",
    "# Compile the model\n",
    "model.compile(\n",
    "    optimizer=tf.keras.optimizers.Adam(),\n",
    "    loss='sparse_categorical_crossentropy',\n",
    "    metrics=['accuracy'])"
   ]
  },
  {
   "cell_type": "code",
   "execution_count": 8,
   "id": "amlC-xQsrPoj",
   "metadata": {
    "id": "amlC-xQsrPoj"
   },
   "outputs": [],
   "source": [
    "early_stopping = tf.keras.callbacks.EarlyStopping(monitor='val_loss', patience=10, restore_best_weights=True)\n",
    "lr_scheduler = tf.keras.callbacks.ReduceLROnPlateau(monitor='val_loss', factor=0.5, patience=5, min_lr=1e-6)"
   ]
  },
  {
   "cell_type": "code",
   "execution_count": 11,
   "id": "MmPbm7jKl2p-",
   "metadata": {
    "colab": {
     "base_uri": "https://localhost:8080/"
    },
    "id": "MmPbm7jKl2p-",
    "outputId": "28dcd05c-f59a-479d-a56f-3b3fad866c0f"
   },
   "outputs": [
    {
     "name": "stdout",
     "output_type": "stream",
     "text": [
      "Epoch 1/100\n",
      "\u001b[1m85/85\u001b[0m \u001b[32m━━━━━━━━━━━━━━━━━━━━\u001b[0m\u001b[37m\u001b[0m \u001b[1m67s\u001b[0m 431ms/step - accuracy: 0.5668 - loss: 0.9287 - val_accuracy: 0.6941 - val_loss: 0.7907 - learning_rate: 0.0010\n",
      "Epoch 2/100\n",
      "\u001b[1m85/85\u001b[0m \u001b[32m━━━━━━━━━━━━━━━━━━━━\u001b[0m\u001b[37m\u001b[0m \u001b[1m26s\u001b[0m 310ms/step - accuracy: 0.6609 - loss: 0.7723 - val_accuracy: 0.7235 - val_loss: 0.7468 - learning_rate: 0.0010\n",
      "Epoch 3/100\n",
      "\u001b[1m85/85\u001b[0m \u001b[32m━━━━━━━━━━━━━━━━━━━━\u001b[0m\u001b[37m\u001b[0m \u001b[1m26s\u001b[0m 306ms/step - accuracy: 0.6940 - loss: 0.7184 - val_accuracy: 0.7235 - val_loss: 0.7145 - learning_rate: 0.0010\n",
      "Epoch 4/100\n",
      "\u001b[1m85/85\u001b[0m \u001b[32m━━━━━━━━━━━━━━━━━━━━\u001b[0m\u001b[37m\u001b[0m \u001b[1m25s\u001b[0m 300ms/step - accuracy: 0.7211 - loss: 0.6799 - val_accuracy: 0.7294 - val_loss: 0.6901 - learning_rate: 0.0010\n",
      "Epoch 5/100\n",
      "\u001b[1m85/85\u001b[0m \u001b[32m━━━━━━━━━━━━━━━━━━━━\u001b[0m\u001b[37m\u001b[0m \u001b[1m26s\u001b[0m 304ms/step - accuracy: 0.7345 - loss: 0.6480 - val_accuracy: 0.7353 - val_loss: 0.6719 - learning_rate: 0.0010\n",
      "Epoch 6/100\n",
      "\u001b[1m85/85\u001b[0m \u001b[32m━━━━━━━━━━━━━━━━━━━━\u001b[0m\u001b[37m\u001b[0m \u001b[1m26s\u001b[0m 302ms/step - accuracy: 0.7411 - loss: 0.6204 - val_accuracy: 0.7529 - val_loss: 0.6587 - learning_rate: 0.0010\n",
      "Epoch 7/100\n",
      "\u001b[1m85/85\u001b[0m \u001b[32m━━━━━━━━━━━━━━━━━━━━\u001b[0m\u001b[37m\u001b[0m \u001b[1m26s\u001b[0m 309ms/step - accuracy: 0.7541 - loss: 0.5960 - val_accuracy: 0.7529 - val_loss: 0.6488 - learning_rate: 0.0010\n",
      "Epoch 8/100\n",
      "\u001b[1m85/85\u001b[0m \u001b[32m━━━━━━━━━━━━━━━━━━━━\u001b[0m\u001b[37m\u001b[0m \u001b[1m27s\u001b[0m 315ms/step - accuracy: 0.7679 - loss: 0.5740 - val_accuracy: 0.7529 - val_loss: 0.6410 - learning_rate: 0.0010\n",
      "Epoch 9/100\n",
      "\u001b[1m85/85\u001b[0m \u001b[32m━━━━━━━━━━━━━━━━━━━━\u001b[0m\u001b[37m\u001b[0m \u001b[1m27s\u001b[0m 316ms/step - accuracy: 0.7817 - loss: 0.5540 - val_accuracy: 0.7765 - val_loss: 0.6342 - learning_rate: 0.0010\n",
      "Epoch 10/100\n",
      "\u001b[1m85/85\u001b[0m \u001b[32m━━━━━━━━━━━━━━━━━━━━\u001b[0m\u001b[37m\u001b[0m \u001b[1m25s\u001b[0m 295ms/step - accuracy: 0.7847 - loss: 0.5354 - val_accuracy: 0.7765 - val_loss: 0.6276 - learning_rate: 0.0010\n",
      "Epoch 11/100\n",
      "\u001b[1m85/85\u001b[0m \u001b[32m━━━━━━━━━━━━━━━━━━━━\u001b[0m\u001b[37m\u001b[0m \u001b[1m26s\u001b[0m 301ms/step - accuracy: 0.7938 - loss: 0.5180 - val_accuracy: 0.7765 - val_loss: 0.6209 - learning_rate: 0.0010\n",
      "Epoch 12/100\n",
      "\u001b[1m85/85\u001b[0m \u001b[32m━━━━━━━━━━━━━━━━━━━━\u001b[0m\u001b[37m\u001b[0m \u001b[1m27s\u001b[0m 313ms/step - accuracy: 0.8105 - loss: 0.5015 - val_accuracy: 0.7765 - val_loss: 0.6140 - learning_rate: 0.0010\n",
      "Epoch 13/100\n",
      "\u001b[1m85/85\u001b[0m \u001b[32m━━━━━━━━━━━━━━━━━━━━\u001b[0m\u001b[37m\u001b[0m \u001b[1m27s\u001b[0m 314ms/step - accuracy: 0.8148 - loss: 0.4859 - val_accuracy: 0.7765 - val_loss: 0.6069 - learning_rate: 0.0010\n",
      "Epoch 14/100\n",
      "\u001b[1m85/85\u001b[0m \u001b[32m━━━━━━━━━━━━━━━━━━━━\u001b[0m\u001b[37m\u001b[0m \u001b[1m24s\u001b[0m 283ms/step - accuracy: 0.8230 - loss: 0.4710 - val_accuracy: 0.7765 - val_loss: 0.5997 - learning_rate: 0.0010\n",
      "Epoch 15/100\n",
      "\u001b[1m85/85\u001b[0m \u001b[32m━━━━━━━━━━━━━━━━━━━━\u001b[0m\u001b[37m\u001b[0m \u001b[1m19s\u001b[0m 220ms/step - accuracy: 0.8237 - loss: 0.4569 - val_accuracy: 0.7824 - val_loss: 0.5924 - learning_rate: 0.0010\n",
      "Epoch 16/100\n",
      "\u001b[1m85/85\u001b[0m \u001b[32m━━━━━━━━━━━━━━━━━━━━\u001b[0m\u001b[37m\u001b[0m \u001b[1m20s\u001b[0m 231ms/step - accuracy: 0.8349 - loss: 0.4434 - val_accuracy: 0.7765 - val_loss: 0.5851 - learning_rate: 0.0010\n",
      "Epoch 17/100\n",
      "\u001b[1m85/85\u001b[0m \u001b[32m━━━━━━━━━━━━━━━━━━━━\u001b[0m\u001b[37m\u001b[0m \u001b[1m19s\u001b[0m 225ms/step - accuracy: 0.8403 - loss: 0.4306 - val_accuracy: 0.7824 - val_loss: 0.5778 - learning_rate: 0.0010\n",
      "Epoch 18/100\n",
      "\u001b[1m85/85\u001b[0m \u001b[32m━━━━━━━━━━━━━━━━━━━━\u001b[0m\u001b[37m\u001b[0m \u001b[1m19s\u001b[0m 219ms/step - accuracy: 0.8443 - loss: 0.4184 - val_accuracy: 0.7882 - val_loss: 0.5708 - learning_rate: 0.0010\n",
      "Epoch 19/100\n",
      "\u001b[1m85/85\u001b[0m \u001b[32m━━━━━━━━━━━━━━━━━━━━\u001b[0m\u001b[37m\u001b[0m \u001b[1m18s\u001b[0m 212ms/step - accuracy: 0.8470 - loss: 0.4068 - val_accuracy: 0.7882 - val_loss: 0.5640 - learning_rate: 0.0010\n",
      "Epoch 20/100\n",
      "\u001b[1m85/85\u001b[0m \u001b[32m━━━━━━━━━━━━━━━━━━━━\u001b[0m\u001b[37m\u001b[0m \u001b[1m19s\u001b[0m 218ms/step - accuracy: 0.8514 - loss: 0.3958 - val_accuracy: 0.7882 - val_loss: 0.5576 - learning_rate: 0.0010\n",
      "Epoch 21/100\n",
      "\u001b[1m85/85\u001b[0m \u001b[32m━━━━━━━━━━━━━━━━━━━━\u001b[0m\u001b[37m\u001b[0m \u001b[1m18s\u001b[0m 214ms/step - accuracy: 0.8575 - loss: 0.3853 - val_accuracy: 0.8059 - val_loss: 0.5514 - learning_rate: 0.0010\n",
      "Epoch 22/100\n",
      "\u001b[1m85/85\u001b[0m \u001b[32m━━━━━━━━━━━━━━━━━━━━\u001b[0m\u001b[37m\u001b[0m \u001b[1m18s\u001b[0m 206ms/step - accuracy: 0.8600 - loss: 0.3753 - val_accuracy: 0.8176 - val_loss: 0.5455 - learning_rate: 0.0010\n",
      "Epoch 23/100\n",
      "\u001b[1m85/85\u001b[0m \u001b[32m━━━━━━━━━━━━━━━━━━━━\u001b[0m\u001b[37m\u001b[0m \u001b[1m17s\u001b[0m 202ms/step - accuracy: 0.8659 - loss: 0.3658 - val_accuracy: 0.8176 - val_loss: 0.5399 - learning_rate: 0.0010\n",
      "Epoch 24/100\n",
      "\u001b[1m85/85\u001b[0m \u001b[32m━━━━━━━━━━━━━━━━━━━━\u001b[0m\u001b[37m\u001b[0m \u001b[1m17s\u001b[0m 199ms/step - accuracy: 0.8749 - loss: 0.3567 - val_accuracy: 0.8176 - val_loss: 0.5347 - learning_rate: 0.0010\n",
      "Epoch 25/100\n",
      "\u001b[1m85/85\u001b[0m \u001b[32m━━━━━━━━━━━━━━━━━━━━\u001b[0m\u001b[37m\u001b[0m \u001b[1m17s\u001b[0m 196ms/step - accuracy: 0.8758 - loss: 0.3480 - val_accuracy: 0.8235 - val_loss: 0.5298 - learning_rate: 0.0010\n",
      "Epoch 26/100\n",
      "\u001b[1m85/85\u001b[0m \u001b[32m━━━━━━━━━━━━━━━━━━━━\u001b[0m\u001b[37m\u001b[0m \u001b[1m17s\u001b[0m 196ms/step - accuracy: 0.8789 - loss: 0.3397 - val_accuracy: 0.8294 - val_loss: 0.5251 - learning_rate: 0.0010\n",
      "Epoch 27/100\n",
      "\u001b[1m85/85\u001b[0m \u001b[32m━━━━━━━━━━━━━━━━━━━━\u001b[0m\u001b[37m\u001b[0m \u001b[1m18s\u001b[0m 206ms/step - accuracy: 0.8805 - loss: 0.3317 - val_accuracy: 0.8294 - val_loss: 0.5206 - learning_rate: 0.0010\n",
      "Epoch 28/100\n",
      "\u001b[1m85/85\u001b[0m \u001b[32m━━━━━━━━━━━━━━━━━━━━\u001b[0m\u001b[37m\u001b[0m \u001b[1m18s\u001b[0m 214ms/step - accuracy: 0.8814 - loss: 0.3240 - val_accuracy: 0.8235 - val_loss: 0.5164 - learning_rate: 0.0010\n",
      "Epoch 29/100\n",
      "\u001b[1m85/85\u001b[0m \u001b[32m━━━━━━━━━━━━━━━━━━━━\u001b[0m\u001b[37m\u001b[0m \u001b[1m18s\u001b[0m 215ms/step - accuracy: 0.8916 - loss: 0.3167 - val_accuracy: 0.8235 - val_loss: 0.5124 - learning_rate: 0.0010\n",
      "Epoch 30/100\n",
      "\u001b[1m85/85\u001b[0m \u001b[32m━━━━━━━━━━━━━━━━━━━━\u001b[0m\u001b[37m\u001b[0m \u001b[1m18s\u001b[0m 210ms/step - accuracy: 0.8946 - loss: 0.3096 - val_accuracy: 0.8176 - val_loss: 0.5086 - learning_rate: 0.0010\n",
      "Epoch 31/100\n",
      "\u001b[1m85/85\u001b[0m \u001b[32m━━━━━━━━━━━━━━━━━━━━\u001b[0m\u001b[37m\u001b[0m \u001b[1m18s\u001b[0m 214ms/step - accuracy: 0.8997 - loss: 0.3027 - val_accuracy: 0.8235 - val_loss: 0.5049 - learning_rate: 0.0010\n",
      "Epoch 32/100\n",
      "\u001b[1m85/85\u001b[0m \u001b[32m━━━━━━━━━━━━━━━━━━━━\u001b[0m\u001b[37m\u001b[0m \u001b[1m18s\u001b[0m 211ms/step - accuracy: 0.9025 - loss: 0.2961 - val_accuracy: 0.8294 - val_loss: 0.5014 - learning_rate: 0.0010\n",
      "Epoch 33/100\n",
      "\u001b[1m85/85\u001b[0m \u001b[32m━━━━━━━━━━━━━━━━━━━━\u001b[0m\u001b[37m\u001b[0m \u001b[1m17s\u001b[0m 202ms/step - accuracy: 0.9081 - loss: 0.2897 - val_accuracy: 0.8294 - val_loss: 0.4980 - learning_rate: 0.0010\n",
      "Epoch 34/100\n",
      "\u001b[1m85/85\u001b[0m \u001b[32m━━━━━━━━━━━━━━━━━━━━\u001b[0m\u001b[37m\u001b[0m \u001b[1m17s\u001b[0m 197ms/step - accuracy: 0.9133 - loss: 0.2835 - val_accuracy: 0.8294 - val_loss: 0.4947 - learning_rate: 0.0010\n",
      "Epoch 35/100\n",
      "\u001b[1m85/85\u001b[0m \u001b[32m━━━━━━━━━━━━━━━━━━━━\u001b[0m\u001b[37m\u001b[0m \u001b[1m18s\u001b[0m 209ms/step - accuracy: 0.9168 - loss: 0.2775 - val_accuracy: 0.8294 - val_loss: 0.4915 - learning_rate: 0.0010\n",
      "Epoch 36/100\n",
      "\u001b[1m85/85\u001b[0m \u001b[32m━━━━━━━━━━━━━━━━━━━━\u001b[0m\u001b[37m\u001b[0m \u001b[1m18s\u001b[0m 209ms/step - accuracy: 0.9202 - loss: 0.2717 - val_accuracy: 0.8294 - val_loss: 0.4883 - learning_rate: 0.0010\n",
      "Epoch 37/100\n",
      "\u001b[1m85/85\u001b[0m \u001b[32m━━━━━━━━━━━━━━━━━━━━\u001b[0m\u001b[37m\u001b[0m \u001b[1m17s\u001b[0m 196ms/step - accuracy: 0.9225 - loss: 0.2661 - val_accuracy: 0.8353 - val_loss: 0.4852 - learning_rate: 0.0010\n",
      "Epoch 38/100\n",
      "\u001b[1m85/85\u001b[0m \u001b[32m━━━━━━━━━━━━━━━━━━━━\u001b[0m\u001b[37m\u001b[0m \u001b[1m17s\u001b[0m 205ms/step - accuracy: 0.9276 - loss: 0.2606 - val_accuracy: 0.8353 - val_loss: 0.4822 - learning_rate: 0.0010\n",
      "Epoch 39/100\n",
      "\u001b[1m85/85\u001b[0m \u001b[32m━━━━━━━━━━━━━━━━━━━━\u001b[0m\u001b[37m\u001b[0m \u001b[1m19s\u001b[0m 222ms/step - accuracy: 0.9303 - loss: 0.2552 - val_accuracy: 0.8353 - val_loss: 0.4792 - learning_rate: 0.0010\n",
      "Epoch 40/100\n",
      "\u001b[1m85/85\u001b[0m \u001b[32m━━━━━━━━━━━━━━━━━━━━\u001b[0m\u001b[37m\u001b[0m \u001b[1m19s\u001b[0m 221ms/step - accuracy: 0.9318 - loss: 0.2501 - val_accuracy: 0.8353 - val_loss: 0.4763 - learning_rate: 0.0010\n",
      "Epoch 41/100\n",
      "\u001b[1m85/85\u001b[0m \u001b[32m━━━━━━━━━━━━━━━━━━━━\u001b[0m\u001b[37m\u001b[0m \u001b[1m19s\u001b[0m 219ms/step - accuracy: 0.9351 - loss: 0.2450 - val_accuracy: 0.8353 - val_loss: 0.4734 - learning_rate: 0.0010\n",
      "Epoch 42/100\n",
      "\u001b[1m85/85\u001b[0m \u001b[32m━━━━━━━━━━━━━━━━━━━━\u001b[0m\u001b[37m\u001b[0m \u001b[1m19s\u001b[0m 226ms/step - accuracy: 0.9384 - loss: 0.2401 - val_accuracy: 0.8412 - val_loss: 0.4705 - learning_rate: 0.0010\n",
      "Epoch 43/100\n",
      "\u001b[1m85/85\u001b[0m \u001b[32m━━━━━━━━━━━━━━━━━━━━\u001b[0m\u001b[37m\u001b[0m \u001b[1m18s\u001b[0m 217ms/step - accuracy: 0.9436 - loss: 0.2353 - val_accuracy: 0.8412 - val_loss: 0.4677 - learning_rate: 0.0010\n",
      "Epoch 44/100\n",
      "\u001b[1m85/85\u001b[0m \u001b[32m━━━━━━━━━━━━━━━━━━━━\u001b[0m\u001b[37m\u001b[0m \u001b[1m19s\u001b[0m 223ms/step - accuracy: 0.9477 - loss: 0.2306 - val_accuracy: 0.8471 - val_loss: 0.4650 - learning_rate: 0.0010\n",
      "Epoch 45/100\n",
      "\u001b[1m85/85\u001b[0m \u001b[32m━━━━━━━━━━━━━━━━━━━━\u001b[0m\u001b[37m\u001b[0m \u001b[1m19s\u001b[0m 219ms/step - accuracy: 0.9480 - loss: 0.2260 - val_accuracy: 0.8529 - val_loss: 0.4623 - learning_rate: 0.0010\n",
      "Epoch 46/100\n",
      "\u001b[1m85/85\u001b[0m \u001b[32m━━━━━━━━━━━━━━━━━━━━\u001b[0m\u001b[37m\u001b[0m \u001b[1m19s\u001b[0m 219ms/step - accuracy: 0.9502 - loss: 0.2216 - val_accuracy: 0.8529 - val_loss: 0.4597 - learning_rate: 0.0010\n",
      "Epoch 47/100\n",
      "\u001b[1m85/85\u001b[0m \u001b[32m━━━━━━━━━━━━━━━━━━━━\u001b[0m\u001b[37m\u001b[0m \u001b[1m18s\u001b[0m 218ms/step - accuracy: 0.9518 - loss: 0.2172 - val_accuracy: 0.8529 - val_loss: 0.4571 - learning_rate: 0.0010\n",
      "Epoch 48/100\n",
      "\u001b[1m85/85\u001b[0m \u001b[32m━━━━━━━━━━━━━━━━━━━━\u001b[0m\u001b[37m\u001b[0m \u001b[1m18s\u001b[0m 214ms/step - accuracy: 0.9539 - loss: 0.2129 - val_accuracy: 0.8588 - val_loss: 0.4546 - learning_rate: 0.0010\n",
      "Epoch 49/100\n",
      "\u001b[1m85/85\u001b[0m \u001b[32m━━━━━━━━━━━━━━━━━━━━\u001b[0m\u001b[37m\u001b[0m \u001b[1m17s\u001b[0m 206ms/step - accuracy: 0.9557 - loss: 0.2087 - val_accuracy: 0.8588 - val_loss: 0.4521 - learning_rate: 0.0010\n",
      "Epoch 50/100\n",
      "\u001b[1m85/85\u001b[0m \u001b[32m━━━━━━━━━━━━━━━━━━━━\u001b[0m\u001b[37m\u001b[0m \u001b[1m17s\u001b[0m 204ms/step - accuracy: 0.9566 - loss: 0.2047 - val_accuracy: 0.8647 - val_loss: 0.4498 - learning_rate: 0.0010\n",
      "Epoch 51/100\n",
      "\u001b[1m85/85\u001b[0m \u001b[32m━━━━━━━━━━━━━━━━━━━━\u001b[0m\u001b[37m\u001b[0m \u001b[1m17s\u001b[0m 203ms/step - accuracy: 0.9569 - loss: 0.2007 - val_accuracy: 0.8647 - val_loss: 0.4475 - learning_rate: 0.0010\n",
      "Epoch 52/100\n",
      "\u001b[1m85/85\u001b[0m \u001b[32m━━━━━━━━━━━━━━━━━━━━\u001b[0m\u001b[37m\u001b[0m \u001b[1m17s\u001b[0m 201ms/step - accuracy: 0.9612 - loss: 0.1967 - val_accuracy: 0.8765 - val_loss: 0.4453 - learning_rate: 0.0010\n",
      "Epoch 53/100\n",
      "\u001b[1m85/85\u001b[0m \u001b[32m━━━━━━━━━━━━━━━━━━━━\u001b[0m\u001b[37m\u001b[0m \u001b[1m17s\u001b[0m 199ms/step - accuracy: 0.9649 - loss: 0.1929 - val_accuracy: 0.8765 - val_loss: 0.4432 - learning_rate: 0.0010\n",
      "Epoch 54/100\n",
      "\u001b[1m85/85\u001b[0m \u001b[32m━━━━━━━━━━━━━━━━━━━━\u001b[0m\u001b[37m\u001b[0m \u001b[1m17s\u001b[0m 204ms/step - accuracy: 0.9662 - loss: 0.1891 - val_accuracy: 0.8765 - val_loss: 0.4412 - learning_rate: 0.0010\n",
      "Epoch 55/100\n",
      "\u001b[1m85/85\u001b[0m \u001b[32m━━━━━━━━━━━━━━━━━━━━\u001b[0m\u001b[37m\u001b[0m \u001b[1m17s\u001b[0m 206ms/step - accuracy: 0.9674 - loss: 0.1855 - val_accuracy: 0.8765 - val_loss: 0.4393 - learning_rate: 0.0010\n",
      "Epoch 56/100\n",
      "\u001b[1m85/85\u001b[0m \u001b[32m━━━━━━━━━━━━━━━━━━━━\u001b[0m\u001b[37m\u001b[0m \u001b[1m17s\u001b[0m 202ms/step - accuracy: 0.9718 - loss: 0.1819 - val_accuracy: 0.8765 - val_loss: 0.4376 - learning_rate: 0.0010\n",
      "Epoch 57/100\n",
      "\u001b[1m85/85\u001b[0m \u001b[32m━━━━━━━━━━━━━━━━━━━━\u001b[0m\u001b[37m\u001b[0m \u001b[1m17s\u001b[0m 203ms/step - accuracy: 0.9738 - loss: 0.1783 - val_accuracy: 0.8824 - val_loss: 0.4359 - learning_rate: 0.0010\n",
      "Epoch 58/100\n",
      "\u001b[1m85/85\u001b[0m \u001b[32m━━━━━━━━━━━━━━━━━━━━\u001b[0m\u001b[37m\u001b[0m \u001b[1m17s\u001b[0m 201ms/step - accuracy: 0.9794 - loss: 0.1748 - val_accuracy: 0.8824 - val_loss: 0.4344 - learning_rate: 0.0010\n",
      "Epoch 59/100\n",
      "\u001b[1m85/85\u001b[0m \u001b[32m━━━━━━━━━━━━━━━━━━━━\u001b[0m\u001b[37m\u001b[0m \u001b[1m18s\u001b[0m 209ms/step - accuracy: 0.9808 - loss: 0.1715 - val_accuracy: 0.8824 - val_loss: 0.4330 - learning_rate: 0.0010\n",
      "Epoch 60/100\n",
      "\u001b[1m85/85\u001b[0m \u001b[32m━━━━━━━━━━━━━━━━━━━━\u001b[0m\u001b[37m\u001b[0m \u001b[1m19s\u001b[0m 222ms/step - accuracy: 0.9827 - loss: 0.1681 - val_accuracy: 0.8882 - val_loss: 0.4317 - learning_rate: 0.0010\n",
      "Epoch 61/100\n",
      "\u001b[1m85/85\u001b[0m \u001b[32m━━━━━━━━━━━━━━━━━━━━\u001b[0m\u001b[37m\u001b[0m \u001b[1m18s\u001b[0m 207ms/step - accuracy: 0.9839 - loss: 0.1649 - val_accuracy: 0.8882 - val_loss: 0.4306 - learning_rate: 0.0010\n",
      "Epoch 62/100\n",
      "\u001b[1m85/85\u001b[0m \u001b[32m━━━━━━━━━━━━━━━━━━━━\u001b[0m\u001b[37m\u001b[0m \u001b[1m18s\u001b[0m 206ms/step - accuracy: 0.9858 - loss: 0.1617 - val_accuracy: 0.8882 - val_loss: 0.4296 - learning_rate: 0.0010\n",
      "Epoch 63/100\n",
      "\u001b[1m85/85\u001b[0m \u001b[32m━━━━━━━━━━━━━━━━━━━━\u001b[0m\u001b[37m\u001b[0m \u001b[1m17s\u001b[0m 205ms/step - accuracy: 0.9883 - loss: 0.1585 - val_accuracy: 0.8882 - val_loss: 0.4288 - learning_rate: 0.0010\n",
      "Epoch 64/100\n",
      "\u001b[1m85/85\u001b[0m \u001b[32m━━━━━━━━━━━━━━━━━━━━\u001b[0m\u001b[37m\u001b[0m \u001b[1m18s\u001b[0m 210ms/step - accuracy: 0.9884 - loss: 0.1555 - val_accuracy: 0.8882 - val_loss: 0.4281 - learning_rate: 0.0010\n",
      "Epoch 65/100\n",
      "\u001b[1m85/85\u001b[0m \u001b[32m━━━━━━━━━━━━━━━━━━━━\u001b[0m\u001b[37m\u001b[0m \u001b[1m18s\u001b[0m 205ms/step - accuracy: 0.9898 - loss: 0.1524 - val_accuracy: 0.8882 - val_loss: 0.4275 - learning_rate: 0.0010\n",
      "Epoch 66/100\n",
      "\u001b[1m85/85\u001b[0m \u001b[32m━━━━━━━━━━━━━━━━━━━━\u001b[0m\u001b[37m\u001b[0m \u001b[1m18s\u001b[0m 206ms/step - accuracy: 0.9898 - loss: 0.1495 - val_accuracy: 0.8941 - val_loss: 0.4270 - learning_rate: 0.0010\n",
      "Epoch 67/100\n",
      "\u001b[1m85/85\u001b[0m \u001b[32m━━━━━━━━━━━━━━━━━━━━\u001b[0m\u001b[37m\u001b[0m \u001b[1m18s\u001b[0m 210ms/step - accuracy: 0.9898 - loss: 0.1466 - val_accuracy: 0.8941 - val_loss: 0.4267 - learning_rate: 0.0010\n",
      "Epoch 68/100\n",
      "\u001b[1m85/85\u001b[0m \u001b[32m━━━━━━━━━━━━━━━━━━━━\u001b[0m\u001b[37m\u001b[0m \u001b[1m18s\u001b[0m 213ms/step - accuracy: 0.9900 - loss: 0.1438 - val_accuracy: 0.8941 - val_loss: 0.4266 - learning_rate: 0.0010\n",
      "Epoch 69/100\n",
      "\u001b[1m85/85\u001b[0m \u001b[32m━━━━━━━━━━━━━━━━━━━━\u001b[0m\u001b[37m\u001b[0m \u001b[1m18s\u001b[0m 213ms/step - accuracy: 0.9900 - loss: 0.1410 - val_accuracy: 0.8941 - val_loss: 0.4265 - learning_rate: 0.0010\n",
      "Epoch 70/100\n",
      "\u001b[1m85/85\u001b[0m \u001b[32m━━━━━━━━━━━━━━━━━━━━\u001b[0m\u001b[37m\u001b[0m \u001b[1m18s\u001b[0m 209ms/step - accuracy: 0.9911 - loss: 0.1383 - val_accuracy: 0.9000 - val_loss: 0.4266 - learning_rate: 0.0010\n",
      "Epoch 71/100\n",
      "\u001b[1m85/85\u001b[0m \u001b[32m━━━━━━━━━━━━━━━━━━━━\u001b[0m\u001b[37m\u001b[0m \u001b[1m23s\u001b[0m 266ms/step - accuracy: 0.9929 - loss: 0.1357 - val_accuracy: 0.9000 - val_loss: 0.4268 - learning_rate: 0.0010\n",
      "Epoch 72/100\n",
      "\u001b[1m85/85\u001b[0m \u001b[32m━━━━━━━━━━━━━━━━━━━━\u001b[0m\u001b[37m\u001b[0m \u001b[1m22s\u001b[0m 254ms/step - accuracy: 0.9939 - loss: 0.1331 - val_accuracy: 0.9000 - val_loss: 0.4271 - learning_rate: 0.0010\n",
      "Epoch 73/100\n",
      "\u001b[1m85/85\u001b[0m \u001b[32m━━━━━━━━━━━━━━━━━━━━\u001b[0m\u001b[37m\u001b[0m \u001b[1m27s\u001b[0m 322ms/step - accuracy: 0.9942 - loss: 0.1306 - val_accuracy: 0.9000 - val_loss: 0.4275 - learning_rate: 0.0010\n",
      "Epoch 74/100\n",
      "\u001b[1m85/85\u001b[0m \u001b[32m━━━━━━━━━━━━━━━━━━━━\u001b[0m\u001b[37m\u001b[0m \u001b[1m25s\u001b[0m 294ms/step - accuracy: 0.9924 - loss: 0.1329 - val_accuracy: 0.8765 - val_loss: 0.4500 - learning_rate: 5.0000e-04\n",
      "Epoch 75/100\n",
      "\u001b[1m85/85\u001b[0m \u001b[32m━━━━━━━━━━━━━━━━━━━━\u001b[0m\u001b[37m\u001b[0m \u001b[1m28s\u001b[0m 333ms/step - accuracy: 0.9882 - loss: 0.1359 - val_accuracy: 0.8765 - val_loss: 0.4465 - learning_rate: 5.0000e-04\n",
      "Epoch 76/100\n",
      "\u001b[1m85/85\u001b[0m \u001b[32m━━━━━━━━━━━━━━━━━━━━\u001b[0m\u001b[37m\u001b[0m \u001b[1m25s\u001b[0m 296ms/step - accuracy: 0.9876 - loss: 0.1361 - val_accuracy: 0.8824 - val_loss: 0.4417 - learning_rate: 5.0000e-04\n",
      "Epoch 77/100\n",
      "\u001b[1m85/85\u001b[0m \u001b[32m━━━━━━━━━━━━━━━━━━━━\u001b[0m\u001b[37m\u001b[0m \u001b[1m24s\u001b[0m 287ms/step - accuracy: 0.9873 - loss: 0.1361 - val_accuracy: 0.8824 - val_loss: 0.4365 - learning_rate: 5.0000e-04\n",
      "Epoch 78/100\n",
      "\u001b[1m85/85\u001b[0m \u001b[32m━━━━━━━━━━━━━━━━━━━━\u001b[0m\u001b[37m\u001b[0m \u001b[1m17s\u001b[0m 203ms/step - accuracy: 0.9869 - loss: 0.1360 - val_accuracy: 0.8882 - val_loss: 0.4315 - learning_rate: 5.0000e-04\n",
      "Epoch 79/100\n",
      "\u001b[1m85/85\u001b[0m \u001b[32m━━━━━━━━━━━━━━━━━━━━\u001b[0m\u001b[37m\u001b[0m \u001b[1m18s\u001b[0m 209ms/step - accuracy: 0.9770 - loss: 0.1404 - val_accuracy: 0.8824 - val_loss: 0.4133 - learning_rate: 2.5000e-04\n",
      "Epoch 80/100\n",
      "\u001b[1m85/85\u001b[0m \u001b[32m━━━━━━━━━━━━━━━━━━━━\u001b[0m\u001b[37m\u001b[0m \u001b[1m18s\u001b[0m 212ms/step - accuracy: 0.9814 - loss: 0.1491 - val_accuracy: 0.8882 - val_loss: 0.4038 - learning_rate: 2.5000e-04\n",
      "Epoch 81/100\n",
      "\u001b[1m85/85\u001b[0m \u001b[32m━━━━━━━━━━━━━━━━━━━━\u001b[0m\u001b[37m\u001b[0m \u001b[1m18s\u001b[0m 207ms/step - accuracy: 0.9879 - loss: 0.1406 - val_accuracy: 0.8882 - val_loss: 0.3985 - learning_rate: 2.5000e-04\n",
      "Epoch 82/100\n",
      "\u001b[1m85/85\u001b[0m \u001b[32m━━━━━━━━━━━━━━━━━━━━\u001b[0m\u001b[37m\u001b[0m \u001b[1m16s\u001b[0m 193ms/step - accuracy: 0.9896 - loss: 0.1356 - val_accuracy: 0.9000 - val_loss: 0.3949 - learning_rate: 2.5000e-04\n",
      "Epoch 83/100\n",
      "\u001b[1m85/85\u001b[0m \u001b[32m━━━━━━━━━━━━━━━━━━━━\u001b[0m\u001b[37m\u001b[0m \u001b[1m17s\u001b[0m 201ms/step - accuracy: 0.9906 - loss: 0.1321 - val_accuracy: 0.9059 - val_loss: 0.3922 - learning_rate: 2.5000e-04\n",
      "Epoch 84/100\n",
      "\u001b[1m85/85\u001b[0m \u001b[32m━━━━━━━━━━━━━━━━━━━━\u001b[0m\u001b[37m\u001b[0m \u001b[1m17s\u001b[0m 205ms/step - accuracy: 0.9926 - loss: 0.1293 - val_accuracy: 0.9059 - val_loss: 0.3899 - learning_rate: 2.5000e-04\n",
      "Epoch 85/100\n",
      "\u001b[1m85/85\u001b[0m \u001b[32m━━━━━━━━━━━━━━━━━━━━\u001b[0m\u001b[37m\u001b[0m \u001b[1m18s\u001b[0m 206ms/step - accuracy: 0.9936 - loss: 0.1270 - val_accuracy: 0.9118 - val_loss: 0.3880 - learning_rate: 2.5000e-04\n",
      "Epoch 86/100\n",
      "\u001b[1m85/85\u001b[0m \u001b[32m━━━━━━━━━━━━━━━━━━━━\u001b[0m\u001b[37m\u001b[0m \u001b[1m17s\u001b[0m 203ms/step - accuracy: 0.9936 - loss: 0.1251 - val_accuracy: 0.9118 - val_loss: 0.3863 - learning_rate: 2.5000e-04\n",
      "Epoch 87/100\n",
      "\u001b[1m85/85\u001b[0m \u001b[32m━━━━━━━━━━━━━━━━━━━━\u001b[0m\u001b[37m\u001b[0m \u001b[1m18s\u001b[0m 210ms/step - accuracy: 0.9964 - loss: 0.1233 - val_accuracy: 0.9118 - val_loss: 0.3849 - learning_rate: 2.5000e-04\n",
      "Epoch 88/100\n",
      "\u001b[1m85/85\u001b[0m \u001b[32m━━━━━━━━━━━━━━━━━━━━\u001b[0m\u001b[37m\u001b[0m \u001b[1m17s\u001b[0m 205ms/step - accuracy: 0.9964 - loss: 0.1218 - val_accuracy: 0.9118 - val_loss: 0.3835 - learning_rate: 2.5000e-04\n",
      "Epoch 89/100\n",
      "\u001b[1m85/85\u001b[0m \u001b[32m━━━━━━━━━━━━━━━━━━━━\u001b[0m\u001b[37m\u001b[0m \u001b[1m18s\u001b[0m 208ms/step - accuracy: 0.9964 - loss: 0.1204 - val_accuracy: 0.9118 - val_loss: 0.3823 - learning_rate: 2.5000e-04\n",
      "Epoch 90/100\n",
      "\u001b[1m85/85\u001b[0m \u001b[32m━━━━━━━━━━━━━━━━━━━━\u001b[0m\u001b[37m\u001b[0m \u001b[1m18s\u001b[0m 216ms/step - accuracy: 0.9966 - loss: 0.1191 - val_accuracy: 0.9118 - val_loss: 0.3812 - learning_rate: 2.5000e-04\n",
      "Epoch 91/100\n",
      "\u001b[1m85/85\u001b[0m \u001b[32m━━━━━━━━━━━━━━━━━━━━\u001b[0m\u001b[37m\u001b[0m \u001b[1m17s\u001b[0m 205ms/step - accuracy: 0.9971 - loss: 0.1178 - val_accuracy: 0.9118 - val_loss: 0.3801 - learning_rate: 2.5000e-04\n",
      "Epoch 92/100\n",
      "\u001b[1m85/85\u001b[0m \u001b[32m━━━━━━━━━━━━━━━━━━━━\u001b[0m\u001b[37m\u001b[0m \u001b[1m18s\u001b[0m 217ms/step - accuracy: 0.9971 - loss: 0.1167 - val_accuracy: 0.9118 - val_loss: 0.3791 - learning_rate: 2.5000e-04\n",
      "Epoch 93/100\n",
      "\u001b[1m85/85\u001b[0m \u001b[32m━━━━━━━━━━━━━━━━━━━━\u001b[0m\u001b[37m\u001b[0m \u001b[1m18s\u001b[0m 218ms/step - accuracy: 0.9971 - loss: 0.1156 - val_accuracy: 0.9118 - val_loss: 0.3782 - learning_rate: 2.5000e-04\n",
      "Epoch 94/100\n",
      "\u001b[1m85/85\u001b[0m \u001b[32m━━━━━━━━━━━━━━━━━━━━\u001b[0m\u001b[37m\u001b[0m \u001b[1m20s\u001b[0m 240ms/step - accuracy: 0.9971 - loss: 0.1146 - val_accuracy: 0.9118 - val_loss: 0.3773 - learning_rate: 2.5000e-04\n",
      "Epoch 95/100\n",
      "\u001b[1m85/85\u001b[0m \u001b[32m━━━━━━━━━━━━━━━━━━━━\u001b[0m\u001b[37m\u001b[0m \u001b[1m21s\u001b[0m 248ms/step - accuracy: 0.9971 - loss: 0.1136 - val_accuracy: 0.9118 - val_loss: 0.3765 - learning_rate: 2.5000e-04\n",
      "Epoch 96/100\n",
      "\u001b[1m85/85\u001b[0m \u001b[32m━━━━━━━━━━━━━━━━━━━━\u001b[0m\u001b[37m\u001b[0m \u001b[1m39s\u001b[0m 226ms/step - accuracy: 0.9971 - loss: 0.1127 - val_accuracy: 0.9118 - val_loss: 0.3757 - learning_rate: 2.5000e-04\n",
      "Epoch 97/100\n",
      "\u001b[1m85/85\u001b[0m \u001b[32m━━━━━━━━━━━━━━━━━━━━\u001b[0m\u001b[37m\u001b[0m \u001b[1m22s\u001b[0m 253ms/step - accuracy: 0.9977 - loss: 0.1117 - val_accuracy: 0.9118 - val_loss: 0.3749 - learning_rate: 2.5000e-04\n",
      "Epoch 98/100\n",
      "\u001b[1m85/85\u001b[0m \u001b[32m━━━━━━━━━━━━━━━━━━━━\u001b[0m\u001b[37m\u001b[0m \u001b[1m22s\u001b[0m 255ms/step - accuracy: 0.9977 - loss: 0.1109 - val_accuracy: 0.9118 - val_loss: 0.3742 - learning_rate: 2.5000e-04\n",
      "Epoch 99/100\n",
      "\u001b[1m85/85\u001b[0m \u001b[32m━━━━━━━━━━━━━━━━━━━━\u001b[0m\u001b[37m\u001b[0m \u001b[1m21s\u001b[0m 248ms/step - accuracy: 0.9984 - loss: 0.1100 - val_accuracy: 0.9118 - val_loss: 0.3735 - learning_rate: 2.5000e-04\n",
      "Epoch 100/100\n",
      "\u001b[1m85/85\u001b[0m \u001b[32m━━━━━━━━━━━━━━━━━━━━\u001b[0m\u001b[37m\u001b[0m \u001b[1m21s\u001b[0m 247ms/step - accuracy: 0.9984 - loss: 0.1091 - val_accuracy: 0.9118 - val_loss: 0.3728 - learning_rate: 2.5000e-04\n",
      "Training time: 2027.59 seconds\n"
     ]
    }
   ],
   "source": [
    "# Measure training time\n",
    "start_time = time.time()\n",
    "# Train the model\n",
    "history = model.fit(\n",
    "    ds_train,\n",
    "    validation_data = ds_val,\n",
    "    epochs=100,\n",
    "    callbacks=[early_stopping, lr_scheduler])\n",
    "# Measure and print runtime\n",
    "print(f\"Training time: {time.time() - start_time:.2f} seconds\")"
   ]
  },
  {
   "cell_type": "code",
   "execution_count": 22,
   "id": "5e07fc72-2703-4218-89c5-1a031e2ad45a",
   "metadata": {},
   "outputs": [],
   "source": [
    "# Unfreeze some layers in the base model for fine-tuning\n",
    "base_model.trainable = True\n",
    "fine_tune_at = len(base_model.layers) - 20  # Unfreeze the last 20 layers\n",
    "for layer in base_model.layers[:fine_tune_at]:\n",
    "    layer.trainable = False\n",
    "model.compile(\n",
    "    optimizer=tf.keras.optimizers.Adam(.00025),\n",
    "    loss='sparse_categorical_crossentropy',\n",
    "    metrics=['accuracy'])"
   ]
  },
  {
   "cell_type": "code",
   "execution_count": 23,
   "id": "4812c5f6-6552-4cb1-972e-e70d773babec",
   "metadata": {},
   "outputs": [
    {
     "name": "stdout",
     "output_type": "stream",
     "text": [
      "Epoch 1/100\n",
      "     85/Unknown \u001b[1m25s\u001b[0m 174ms/step - accuracy: 0.7158 - loss: 1.0587"
     ]
    },
    {
     "name": "stderr",
     "output_type": "stream",
     "text": [
      "C:\\Users\\b25ch\\anaconda3\\envs\\dev\\lib\\contextlib.py:153: UserWarning: Your input ran out of data; interrupting training. Make sure that your dataset or generator can generate at least `steps_per_epoch * epochs` batches. You may need to use the `.repeat()` function when building your dataset.\n",
      "  self.gen.throw(typ, value, traceback)\n"
     ]
    },
    {
     "name": "stdout",
     "output_type": "stream",
     "text": [
      "\u001b[1m85/85\u001b[0m \u001b[32m━━━━━━━━━━━━━━━━━━━━\u001b[0m\u001b[37m\u001b[0m \u001b[1m29s\u001b[0m 223ms/step - accuracy: 0.7158 - loss: 1.0595 - val_accuracy: 0.7824 - val_loss: 1.1384 - learning_rate: 2.5000e-04\n",
      "Epoch 2/100\n",
      "\u001b[1m85/85\u001b[0m \u001b[32m━━━━━━━━━━━━━━━━━━━━\u001b[0m\u001b[37m\u001b[0m \u001b[1m17s\u001b[0m 195ms/step - accuracy: 0.8508 - loss: 0.5744 - val_accuracy: 0.8471 - val_loss: 0.9361 - learning_rate: 2.5000e-04\n",
      "Epoch 3/100\n",
      "\u001b[1m85/85\u001b[0m \u001b[32m━━━━━━━━━━━━━━━━━━━━\u001b[0m\u001b[37m\u001b[0m \u001b[1m17s\u001b[0m 198ms/step - accuracy: 0.9269 - loss: 0.2017 - val_accuracy: 0.8294 - val_loss: 1.0568 - learning_rate: 2.5000e-04\n",
      "Epoch 4/100\n",
      "\u001b[1m85/85\u001b[0m \u001b[32m━━━━━━━━━━━━━━━━━━━━\u001b[0m\u001b[37m\u001b[0m \u001b[1m17s\u001b[0m 198ms/step - accuracy: 0.9517 - loss: 0.1343 - val_accuracy: 0.8588 - val_loss: 0.9446 - learning_rate: 2.5000e-04\n",
      "Epoch 5/100\n",
      "\u001b[1m85/85\u001b[0m \u001b[32m━━━━━━━━━━━━━━━━━━━━\u001b[0m\u001b[37m\u001b[0m \u001b[1m17s\u001b[0m 198ms/step - accuracy: 0.9715 - loss: 0.0855 - val_accuracy: 0.8824 - val_loss: 0.7720 - learning_rate: 2.5000e-04\n",
      "Epoch 6/100\n",
      "\u001b[1m85/85\u001b[0m \u001b[32m━━━━━━━━━━━━━━━━━━━━\u001b[0m\u001b[37m\u001b[0m \u001b[1m17s\u001b[0m 200ms/step - accuracy: 0.9873 - loss: 0.0392 - val_accuracy: 0.8412 - val_loss: 0.9305 - learning_rate: 2.5000e-04\n",
      "Epoch 7/100\n",
      "\u001b[1m85/85\u001b[0m \u001b[32m━━━━━━━━━━━━━━━━━━━━\u001b[0m\u001b[37m\u001b[0m \u001b[1m19s\u001b[0m 225ms/step - accuracy: 0.9941 - loss: 0.0212 - val_accuracy: 0.8647 - val_loss: 0.8005 - learning_rate: 2.5000e-04\n",
      "Epoch 8/100\n",
      "\u001b[1m85/85\u001b[0m \u001b[32m━━━━━━━━━━━━━━━━━━━━\u001b[0m\u001b[37m\u001b[0m \u001b[1m21s\u001b[0m 242ms/step - accuracy: 0.9940 - loss: 0.0218 - val_accuracy: 0.8706 - val_loss: 0.8416 - learning_rate: 2.5000e-04\n",
      "Epoch 9/100\n",
      "\u001b[1m85/85\u001b[0m \u001b[32m━━━━━━━━━━━━━━━━━━━━\u001b[0m\u001b[37m\u001b[0m \u001b[1m21s\u001b[0m 249ms/step - accuracy: 0.9992 - loss: 0.0054 - val_accuracy: 0.8882 - val_loss: 0.7244 - learning_rate: 2.5000e-04\n",
      "Epoch 10/100\n",
      "\u001b[1m85/85\u001b[0m \u001b[32m━━━━━━━━━━━━━━━━━━━━\u001b[0m\u001b[37m\u001b[0m \u001b[1m22s\u001b[0m 259ms/step - accuracy: 1.0000 - loss: 0.0025 - val_accuracy: 0.8941 - val_loss: 0.7391 - learning_rate: 2.5000e-04\n",
      "Training time: 196.37 seconds\n"
     ]
    }
   ],
   "source": [
    "# Measure training time\n",
    "start_time = time.time()\n",
    "# Train the model\n",
    "history_fine = model.fit(\n",
    "    ds_train,\n",
    "    validation_data = ds_val,\n",
    "    epochs=100,\n",
    "    callbacks=[early_stopping, lr_scheduler])\n",
    "# Measure and print runtime\n",
    "print(f\"Training time: {time.time() - start_time:.2f} seconds\")"
   ]
  },
  {
   "cell_type": "code",
   "execution_count": 12,
   "id": "ZMphieQyl681",
   "metadata": {
    "colab": {
     "base_uri": "https://localhost:8080/"
    },
    "id": "ZMphieQyl681",
    "outputId": "646bfb2b-5e2c-42c1-c79e-775e222302ba"
   },
   "outputs": [
    {
     "name": "stdout",
     "output_type": "stream",
     "text": [
      "\u001b[1m11/11\u001b[0m \u001b[32m━━━━━━━━━━━━━━━━━━━━\u001b[0m\u001b[37m\u001b[0m \u001b[1m2s\u001b[0m 201ms/step - accuracy: 0.9239 - loss: 0.3078\n",
      "Test Loss: 0.30718645453453064, Test Accuracy: 0.9176470637321472\n"
     ]
    }
   ],
   "source": [
    "# Evaluate the model\n",
    "results = model.evaluate(ds_test)\n",
    "print(f\"Test Loss: {results[0]}, Test Accuracy: {results[1]}\")"
   ]
  },
  {
   "cell_type": "code",
   "execution_count": 13,
   "id": "Hbsgt6iyq0AC",
   "metadata": {
    "colab": {
     "base_uri": "https://localhost:8080/"
    },
    "id": "Hbsgt6iyq0AC",
    "outputId": "b3b45793-8952-4dad-f7ad-7def15e59807"
   },
   "outputs": [
    {
     "name": "stdout",
     "output_type": "stream",
     "text": [
      "\u001b[1m1/1\u001b[0m \u001b[32m━━━━━━━━━━━━━━━━━━━━\u001b[0m\u001b[37m\u001b[0m \u001b[1m4s\u001b[0m 4s/step\n",
      "\u001b[1m1/1\u001b[0m \u001b[32m━━━━━━━━━━━━━━━━━━━━\u001b[0m\u001b[37m\u001b[0m \u001b[1m0s\u001b[0m 226ms/step\n",
      "\u001b[1m1/1\u001b[0m \u001b[32m━━━━━━━━━━━━━━━━━━━━\u001b[0m\u001b[37m\u001b[0m \u001b[1m0s\u001b[0m 234ms/step\n",
      "\u001b[1m1/1\u001b[0m \u001b[32m━━━━━━━━━━━━━━━━━━━━\u001b[0m\u001b[37m\u001b[0m \u001b[1m0s\u001b[0m 222ms/step\n",
      "\u001b[1m1/1\u001b[0m \u001b[32m━━━━━━━━━━━━━━━━━━━━\u001b[0m\u001b[37m\u001b[0m \u001b[1m0s\u001b[0m 223ms/step\n",
      "\u001b[1m1/1\u001b[0m \u001b[32m━━━━━━━━━━━━━━━━━━━━\u001b[0m\u001b[37m\u001b[0m \u001b[1m0s\u001b[0m 230ms/step\n",
      "\u001b[1m1/1\u001b[0m \u001b[32m━━━━━━━━━━━━━━━━━━━━\u001b[0m\u001b[37m\u001b[0m \u001b[1m0s\u001b[0m 241ms/step\n",
      "\u001b[1m1/1\u001b[0m \u001b[32m━━━━━━━━━━━━━━━━━━━━\u001b[0m\u001b[37m\u001b[0m \u001b[1m0s\u001b[0m 223ms/step\n",
      "\u001b[1m1/1\u001b[0m \u001b[32m━━━━━━━━━━━━━━━━━━━━\u001b[0m\u001b[37m\u001b[0m \u001b[1m0s\u001b[0m 222ms/step\n",
      "\u001b[1m1/1\u001b[0m \u001b[32m━━━━━━━━━━━━━━━━━━━━\u001b[0m\u001b[37m\u001b[0m \u001b[1m0s\u001b[0m 201ms/step\n",
      "\u001b[1m1/1\u001b[0m \u001b[32m━━━━━━━━━━━━━━━━━━━━\u001b[0m\u001b[37m\u001b[0m \u001b[1m5s\u001b[0m 5s/step\n"
     ]
    }
   ],
   "source": [
    "# Initialize lists for true labels and predictions\n",
    "y_true = []\n",
    "y_pred = []\n",
    "# Generate predictions for additional metrics\n",
    "for images, labels in ds_test:\n",
    "    preds = model.predict(images)\n",
    "    y_true.extend(labels.numpy())\n",
    "    y_pred.extend(np.argmax(preds, axis=1))"
   ]
  },
  {
   "cell_type": "code",
   "execution_count": 14,
   "id": "1c7a5d46-a791-4adb-a807-a67d57c29752",
   "metadata": {},
   "outputs": [
    {
     "name": "stdout",
     "output_type": "stream",
     "text": [
      "\u001b[1m11/11\u001b[0m \u001b[32m━━━━━━━━━━━━━━━━━━━━\u001b[0m\u001b[37m\u001b[0m \u001b[1m10s\u001b[0m 657ms/step\n"
     ]
    },
    {
     "name": "stderr",
     "output_type": "stream",
     "text": [
      "C:\\Users\\b25ch\\anaconda3\\envs\\dev\\lib\\contextlib.py:153: UserWarning: Your input ran out of data; interrupting training. Make sure that your dataset or generator can generate at least `steps_per_epoch * epochs` batches. You may need to use the `.repeat()` function when building your dataset.\n",
      "  self.gen.throw(typ, value, traceback)\n"
     ]
    }
   ],
   "source": [
    "from sklearn.preprocessing import label_binarize\n",
    "# Convert lists to NumPy arrays for metric calculations\n",
    "y_true_np = np.array(y_true)\n",
    "y_pred_np = np.array(y_pred)\n",
    "y_true_bin = label_binarize(y_true, classes=[0, 1, 2])\n",
    "y_prob = model.predict(ds_test)"
   ]
  },
  {
   "cell_type": "code",
   "execution_count": 15,
   "id": "OwtHxAiba9sh",
   "metadata": {
    "colab": {
     "base_uri": "https://localhost:8080/"
    },
    "id": "OwtHxAiba9sh",
    "outputId": "333ebeb2-722d-4a0b-a8c0-97e2343a6c7b"
   },
   "outputs": [
    {
     "name": "stdout",
     "output_type": "stream",
     "text": [
      "    0  1   2\n",
      "0  78  0   6\n",
      "1   1  8   0\n",
      "2   7  0  70\n",
      "   test_loss  valid_accurancy  precision    recall        f1   roc_auc  \\\n",
      "0   0.307186         0.917647   0.928571  0.906977  0.917647  0.928169   \n",
      "\n",
      "      kappa  \n",
      "0  0.848908  \n"
     ]
    }
   ],
   "source": [
    "# Calculate sklearn confusion matrix and classification report\n",
    "conf_matrix = confusion_matrix(y_true_np, y_pred_np)\n",
    "df_matrix = pd.DataFrame(conf_matrix)\n",
    "df_report = pd.DataFrame(classification_report(y_true, y_pred, output_dict=True)).transpose()\n",
    "print(df_matrix)\n",
    "# Calculate additional keras metrics\n",
    "precision = tf.keras.metrics.Precision()(y_true, y_pred).numpy()\n",
    "recall = tf.keras.metrics.Recall()(y_true, y_pred).numpy()\n",
    "f1 = 2 * (precision * recall) / (precision + recall)\n",
    "roc_auc = roc_auc_score(y_true, tf.keras.utils.to_categorical(y_pred, 3), multi_class='ovr')\n",
    "df_metrics = pd.DataFrame({'test_loss': [results[0]],\n",
    "                           'valid_accurancy': [results[1]],\n",
    "                           'precision': [precision],\n",
    "                           'recall': [recall],\n",
    "                           'f1': [2*(precision*recall) / (precision+recall)],\n",
    "                           'roc_auc': [roc_auc],\n",
    "                           'kappa': [cohen_kappa_score(y_true, y_pred)] })\n",
    "print(df_metrics)"
   ]
  },
  {
   "cell_type": "code",
   "execution_count": 16,
   "id": "xIfDo6kma9zD",
   "metadata": {
    "colab": {
     "base_uri": "https://localhost:8080/",
     "height": 472
    },
    "id": "xIfDo6kma9zD",
    "outputId": "093ff54f-d701-4420-af5d-492f84606f1f"
   },
   "outputs": [],
   "source": [
    "# Extracting accuracy and loss values\n",
    "df_history = pd.DataFrame(history.history)\n",
    "# Generate the classification report and convert the report to a DataFrame\n",
    "df_report = pd.DataFrame(classification_report(y_true, y_pred, output_dict=True)).transpose()"
   ]
  },
  {
   "cell_type": "markdown",
   "id": "6e46e49f-9e8c-46d5-91da-04fb6eaacc55",
   "metadata": {},
   "source": [
    "### Export Files"
   ]
  },
  {
   "cell_type": "code",
   "execution_count": 17,
   "id": "e4d81ede-4651-4391-b33b-61c57f8a9361",
   "metadata": {},
   "outputs": [],
   "source": [
    "np.save(f'outputs/y_true_np-{modelname}.npy',y_true_np)\n",
    "np.save(f'outputs/y_pred_np-{modelname}.npy',y_pred_np)\n",
    "np.save(f'outputs/y_true_bin-{modelname}.npy',y_true_bin)\n",
    "np.save(f'outputs/y_prob-{modelname}.npy',y_prob)"
   ]
  },
  {
   "cell_type": "code",
   "execution_count": 18,
   "id": "A6ifLalobBQn",
   "metadata": {
    "id": "A6ifLalobBQn"
   },
   "outputs": [],
   "source": [
    "df_matrix.to_csv(f'outputs/matrix-{modelname}.csv')\n",
    "df_report.to_csv(f'outputs/report-{modelname}.csv')\n",
    "df_metrics.to_csv(f'outputs/metrics-{modelname}.csv')\n",
    "df_history.to_csv(f'outputs/history-{modelname}.csv')"
   ]
  },
  {
   "cell_type": "code",
   "execution_count": 20,
   "id": "f8320465-4398-4154-9a86-b703fa1d535b",
   "metadata": {},
   "outputs": [],
   "source": [
    "# Export our model to HDF5 file\n",
    "model.save(f\"models/{modelname}.keras\")"
   ]
  },
  {
   "cell_type": "code",
   "execution_count": null,
   "id": "efd313b4-23c0-4fc8-b258-4018a02f1b24",
   "metadata": {},
   "outputs": [],
   "source": []
  }
 ],
 "metadata": {
  "colab": {
   "provenance": []
  },
  "kernelspec": {
   "display_name": "Python 3 (ipykernel)",
   "language": "python",
   "name": "python3"
  },
  "language_info": {
   "codemirror_mode": {
    "name": "ipython",
    "version": 3
   },
   "file_extension": ".py",
   "mimetype": "text/x-python",
   "name": "python",
   "nbconvert_exporter": "python",
   "pygments_lexer": "ipython3",
   "version": "3.10.14"
  }
 },
 "nbformat": 4,
 "nbformat_minor": 5
}
