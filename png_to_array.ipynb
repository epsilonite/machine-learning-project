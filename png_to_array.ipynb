{
 "cells": [
  {
   "cell_type": "code",
   "execution_count": 3,
   "id": "c6886856-de2e-4d2b-9c42-e3a6859917c9",
   "metadata": {},
   "outputs": [
    {
     "name": "stdout",
     "output_type": "stream",
     "text": [
      "Mass-Training_P_00015_LEFT_MLO.png: (512, 512, 3)\n",
      "Mass-Training_P_00004_RIGHT_MLO.png: (512, 512, 3)\n",
      "Mass-Training_P_00018_RIGHT_CC.png: (512, 512, 3)\n",
      "Mass-Training_P_00001_LEFT_MLO.png: (512, 512, 3)\n",
      "Mass-Training_P_00009_RIGHT_MLO.png: (512, 512, 3)\n",
      "Mass-Training_P_00004_LEFT_CC.png: (512, 512, 3)\n",
      "Mass-Training_P_00001_LEFT_CC.png: (512, 512, 3)\n",
      "Mass-Training_P_00004_LEFT_MLO.png: (512, 512, 3)\n",
      "Mass-Training_P_00009_RIGHT_CC.png: (512, 512, 3)\n"
     ]
    }
   ],
   "source": [
    "import os\n",
    "import numpy as np\n",
    "from PIL import Image\n",
    "\n",
    "\n",
    "# Loads an ImageNet PNG image and converts it to a NumPy array\n",
    "def imagenet_png_to_array(image_path):\n",
    "    \n",
    "    \n",
    "    img = Image.open(image_path)\n",
    "    img = img.convert('RGB')\n",
    "    img_array = np.array(img)\n",
    "    return img_array\n",
    "\n",
    "# Path to directory\n",
    "directory_path = \"data/CBIS-DDSM-512/\"\n",
    "\n",
    "# Loop through files directory\n",
    "for filename in os.listdir(directory_path):\n",
    "    if filename.endswith(\".png\"):\n",
    "        image_path = os.path.join(directory_path, filename)\n",
    "        img_array = imagenet_png_to_array(image_path)\n",
    "        \n",
    "        # Print image shape\n",
    "        print(f\"{filename}: {img_array.shape}\")"
   ]
  },
  {
   "cell_type": "code",
   "execution_count": null,
   "id": "23860049-b322-4f19-8781-dc9e3202ea34",
   "metadata": {},
   "outputs": [],
   "source": []
  }
 ],
 "metadata": {
  "kernelspec": {
   "display_name": "Python 3 (ipykernel)",
   "language": "python",
   "name": "python3"
  },
  "language_info": {
   "codemirror_mode": {
    "name": "ipython",
    "version": 3
   },
   "file_extension": ".py",
   "mimetype": "text/x-python",
   "name": "python",
   "nbconvert_exporter": "python",
   "pygments_lexer": "ipython3",
   "version": "3.10.14"
  }
 },
 "nbformat": 4,
 "nbformat_minor": 5
}
